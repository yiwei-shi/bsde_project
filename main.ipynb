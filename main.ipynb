{
 "cells": [
  {
   "cell_type": "code",
   "execution_count": 1,
   "metadata": {
    "scrolled": true
   },
   "outputs": [
    {
     "name": "stderr",
     "output_type": "stream",
     "text": [
      "C:\\Anaconda3\\envs\\tensorflow\\lib\\site-packages\\tensorflow\\python\\framework\\dtypes.py:516: FutureWarning: Passing (type, 1) or '1type' as a synonym of type is deprecated; in a future version of numpy, it will be understood as (type, (1,)) / '(1,)type'.\n",
      "  _np_qint8 = np.dtype([(\"qint8\", np.int8, 1)])\n",
      "C:\\Anaconda3\\envs\\tensorflow\\lib\\site-packages\\tensorflow\\python\\framework\\dtypes.py:517: FutureWarning: Passing (type, 1) or '1type' as a synonym of type is deprecated; in a future version of numpy, it will be understood as (type, (1,)) / '(1,)type'.\n",
      "  _np_quint8 = np.dtype([(\"quint8\", np.uint8, 1)])\n",
      "C:\\Anaconda3\\envs\\tensorflow\\lib\\site-packages\\tensorflow\\python\\framework\\dtypes.py:518: FutureWarning: Passing (type, 1) or '1type' as a synonym of type is deprecated; in a future version of numpy, it will be understood as (type, (1,)) / '(1,)type'.\n",
      "  _np_qint16 = np.dtype([(\"qint16\", np.int16, 1)])\n",
      "C:\\Anaconda3\\envs\\tensorflow\\lib\\site-packages\\tensorflow\\python\\framework\\dtypes.py:519: FutureWarning: Passing (type, 1) or '1type' as a synonym of type is deprecated; in a future version of numpy, it will be understood as (type, (1,)) / '(1,)type'.\n",
      "  _np_quint16 = np.dtype([(\"quint16\", np.uint16, 1)])\n",
      "C:\\Anaconda3\\envs\\tensorflow\\lib\\site-packages\\tensorflow\\python\\framework\\dtypes.py:520: FutureWarning: Passing (type, 1) or '1type' as a synonym of type is deprecated; in a future version of numpy, it will be understood as (type, (1,)) / '(1,)type'.\n",
      "  _np_qint32 = np.dtype([(\"qint32\", np.int32, 1)])\n",
      "C:\\Anaconda3\\envs\\tensorflow\\lib\\site-packages\\tensorflow\\python\\framework\\dtypes.py:525: FutureWarning: Passing (type, 1) or '1type' as a synonym of type is deprecated; in a future version of numpy, it will be understood as (type, (1,)) / '(1,)type'.\n",
      "  np_resource = np.dtype([(\"resource\", np.ubyte, 1)])\n",
      "C:\\Anaconda3\\envs\\tensorflow\\lib\\site-packages\\tensorboard\\compat\\tensorflow_stub\\dtypes.py:541: FutureWarning: Passing (type, 1) or '1type' as a synonym of type is deprecated; in a future version of numpy, it will be understood as (type, (1,)) / '(1,)type'.\n",
      "  _np_qint8 = np.dtype([(\"qint8\", np.int8, 1)])\n",
      "C:\\Anaconda3\\envs\\tensorflow\\lib\\site-packages\\tensorboard\\compat\\tensorflow_stub\\dtypes.py:542: FutureWarning: Passing (type, 1) or '1type' as a synonym of type is deprecated; in a future version of numpy, it will be understood as (type, (1,)) / '(1,)type'.\n",
      "  _np_quint8 = np.dtype([(\"quint8\", np.uint8, 1)])\n",
      "C:\\Anaconda3\\envs\\tensorflow\\lib\\site-packages\\tensorboard\\compat\\tensorflow_stub\\dtypes.py:543: FutureWarning: Passing (type, 1) or '1type' as a synonym of type is deprecated; in a future version of numpy, it will be understood as (type, (1,)) / '(1,)type'.\n",
      "  _np_qint16 = np.dtype([(\"qint16\", np.int16, 1)])\n",
      "C:\\Anaconda3\\envs\\tensorflow\\lib\\site-packages\\tensorboard\\compat\\tensorflow_stub\\dtypes.py:544: FutureWarning: Passing (type, 1) or '1type' as a synonym of type is deprecated; in a future version of numpy, it will be understood as (type, (1,)) / '(1,)type'.\n",
      "  _np_quint16 = np.dtype([(\"quint16\", np.uint16, 1)])\n",
      "C:\\Anaconda3\\envs\\tensorflow\\lib\\site-packages\\tensorboard\\compat\\tensorflow_stub\\dtypes.py:545: FutureWarning: Passing (type, 1) or '1type' as a synonym of type is deprecated; in a future version of numpy, it will be understood as (type, (1,)) / '(1,)type'.\n",
      "  _np_qint32 = np.dtype([(\"qint32\", np.int32, 1)])\n",
      "C:\\Anaconda3\\envs\\tensorflow\\lib\\site-packages\\tensorboard\\compat\\tensorflow_stub\\dtypes.py:550: FutureWarning: Passing (type, 1) or '1type' as a synonym of type is deprecated; in a future version of numpy, it will be understood as (type, (1,)) / '(1,)type'.\n",
      "  np_resource = np.dtype([(\"resource\", np.ubyte, 1)])\n"
     ]
    }
   ],
   "source": [
    "import json\n",
    "import logging\n",
    "import os\n",
    "import numpy as np\n",
    "import tensorflow as tf\n",
    "import matplotlib.pyplot as plt\n",
    "from scipy.stats import norm\n",
    "from scipy import interpolate"
   ]
  },
  {
   "cell_type": "code",
   "execution_count": 2,
   "metadata": {},
   "outputs": [],
   "source": [
    "from config import get_config\n",
    "from equation import get_equation\n",
    "from solver import FeedForwardModel"
   ]
  },
  {
   "cell_type": "code",
   "execution_count": 3,
   "metadata": {},
   "outputs": [
    {
     "name": "stdout",
     "output_type": "stream",
     "text": [
      "7.965567455405804\n"
     ]
    }
   ],
   "source": [
    "s0=100\n",
    "k=100\n",
    "r=0.00\n",
    "sigma=0.20\n",
    "T=1\n",
    "\n",
    "d1=(np.log(s0/k)+(r+sigma*sigma/2)*T)/(sigma*np.sqrt(T))\n",
    "d2=(np.log(s0/k)+(r-sigma*sigma/2)*T)/(sigma*np.sqrt(T))\n",
    "\n",
    "print(norm.cdf(d1)*s0-norm.cdf(d2)*k*np.exp(-r*T))"
   ]
  },
  {
   "cell_type": "code",
   "execution_count": 4,
   "metadata": {},
   "outputs": [],
   "source": [
    "def del_all_flags(FLAGS):\n",
    "    flags_dict = FLAGS._flags()    \n",
    "    keys_list = [keys for keys in flags_dict]    \n",
    "    for keys in keys_list:\n",
    "        FLAGS.__delattr__(keys)\n",
    "\n",
    "del_all_flags(tf.app.flags.FLAGS)\n",
    "\n",
    "FLAGS = tf.app.flags.FLAGS\n",
    "tf.app.flags.DEFINE_string('f', '', 'kernel')\n",
    "\n",
    "tf.app.flags.DEFINE_string('problem_name', 'EuropeanCall',\n",
    "                           \"\"\"The name of partial differential equation.\"\"\")\n",
    "tf.app.flags.DEFINE_integer('num_run', 1,\n",
    "                            \"\"\"The number of experiments to repeatedly run for the same problem.\"\"\")\n",
    "tf.app.flags.DEFINE_string('log_dir', './logs',\n",
    "                           \"\"\"Directory where to write event logs and output array.\"\"\")"
   ]
  },
  {
   "cell_type": "code",
   "execution_count": 5,
   "metadata": {
    "scrolled": false
   },
   "outputs": [
    {
     "name": "stderr",
     "output_type": "stream",
     "text": [
      "INFO   Begin to solve EuropeanCall with run 1\n"
     ]
    },
    {
     "name": "stdout",
     "output_type": "stream",
     "text": [
      "WARNING:tensorflow:From C:\\Users\\sy8w\\OneDrive\\Documents\\Projects and Presentation\\github\\solver.py:58: The name tf.placeholder is deprecated. Please use tf.compat.v1.placeholder instead.\n",
      "\n"
     ]
    },
    {
     "name": "stderr",
     "output_type": "stream",
     "text": [
      "WARNING From C:\\Users\\sy8w\\OneDrive\\Documents\\Projects and Presentation\\github\\solver.py:58: The name tf.placeholder is deprecated. Please use tf.compat.v1.placeholder instead.\n",
      "\n"
     ]
    },
    {
     "name": "stdout",
     "output_type": "stream",
     "text": [
      "WARNING:tensorflow:From C:\\Users\\sy8w\\OneDrive\\Documents\\Projects and Presentation\\github\\solver.py:61: The name tf.random_uniform is deprecated. Please use tf.random.uniform instead.\n",
      "\n"
     ]
    },
    {
     "name": "stderr",
     "output_type": "stream",
     "text": [
      "WARNING From C:\\Users\\sy8w\\OneDrive\\Documents\\Projects and Presentation\\github\\solver.py:61: The name tf.random_uniform is deprecated. Please use tf.random.uniform instead.\n",
      "\n"
     ]
    },
    {
     "name": "stdout",
     "output_type": "stream",
     "text": [
      "WARNING:tensorflow:From C:\\Users\\sy8w\\OneDrive\\Documents\\Projects and Presentation\\github\\solver.py:76: The name tf.variable_scope is deprecated. Please use tf.compat.v1.variable_scope instead.\n",
      "\n"
     ]
    },
    {
     "name": "stderr",
     "output_type": "stream",
     "text": [
      "WARNING From C:\\Users\\sy8w\\OneDrive\\Documents\\Projects and Presentation\\github\\solver.py:76: The name tf.variable_scope is deprecated. Please use tf.compat.v1.variable_scope instead.\n",
      "\n"
     ]
    },
    {
     "name": "stdout",
     "output_type": "stream",
     "text": [
      "t: 0\n",
      "WARNING:tensorflow:From C:\\Users\\sy8w\\OneDrive\\Documents\\Projects and Presentation\\github\\solver.py:83: calling reduce_sum_v1 (from tensorflow.python.ops.math_ops) with keep_dims is deprecated and will be removed in a future version.\n",
      "Instructions for updating:\n",
      "keep_dims is deprecated, use keepdims instead\n"
     ]
    },
    {
     "name": "stderr",
     "output_type": "stream",
     "text": [
      "WARNING From C:\\Users\\sy8w\\OneDrive\\Documents\\Projects and Presentation\\github\\solver.py:83: calling reduce_sum_v1 (from tensorflow.python.ops.math_ops) with keep_dims is deprecated and will be removed in a future version.\n",
      "Instructions for updating:\n",
      "keep_dims is deprecated, use keepdims instead\n"
     ]
    },
    {
     "name": "stdout",
     "output_type": "stream",
     "text": [
      "WARNING:tensorflow:From C:\\Users\\sy8w\\OneDrive\\Documents\\Projects and Presentation\\github\\solver.py:125: The name tf.AUTO_REUSE is deprecated. Please use tf.compat.v1.AUTO_REUSE instead.\n",
      "\n"
     ]
    },
    {
     "name": "stderr",
     "output_type": "stream",
     "text": [
      "WARNING From C:\\Users\\sy8w\\OneDrive\\Documents\\Projects and Presentation\\github\\solver.py:125: The name tf.AUTO_REUSE is deprecated. Please use tf.compat.v1.AUTO_REUSE instead.\n",
      "\n"
     ]
    },
    {
     "name": "stdout",
     "output_type": "stream",
     "text": [
      "WARNING:tensorflow:From C:\\Users\\sy8w\\OneDrive\\Documents\\Projects and Presentation\\github\\solver.py:145: The name tf.get_variable is deprecated. Please use tf.compat.v1.get_variable instead.\n",
      "\n"
     ]
    },
    {
     "name": "stderr",
     "output_type": "stream",
     "text": [
      "WARNING From C:\\Users\\sy8w\\OneDrive\\Documents\\Projects and Presentation\\github\\solver.py:145: The name tf.get_variable is deprecated. Please use tf.compat.v1.get_variable instead.\n",
      "\n"
     ]
    },
    {
     "name": "stdout",
     "output_type": "stream",
     "text": [
      "t: 1\n",
      "t: 2\n",
      "t: 3\n",
      "t: 4\n",
      "t: 5\n",
      "t: 6\n",
      "t: 7\n",
      "t: 8\n",
      "WARNING:tensorflow:From C:\\Users\\sy8w\\OneDrive\\Documents\\Projects and Presentation\\github\\solver.py:105: The name tf.train.piecewise_constant is deprecated. Please use tf.compat.v1.train.piecewise_constant instead.\n",
      "\n"
     ]
    },
    {
     "name": "stderr",
     "output_type": "stream",
     "text": [
      "WARNING From C:\\Users\\sy8w\\OneDrive\\Documents\\Projects and Presentation\\github\\solver.py:105: The name tf.train.piecewise_constant is deprecated. Please use tf.compat.v1.train.piecewise_constant instead.\n",
      "\n"
     ]
    },
    {
     "name": "stdout",
     "output_type": "stream",
     "text": [
      "WARNING:tensorflow:From C:\\Users\\sy8w\\OneDrive\\Documents\\Projects and Presentation\\github\\solver.py:110: The name tf.train.AdamOptimizer is deprecated. Please use tf.compat.v1.train.AdamOptimizer instead.\n",
      "\n"
     ]
    },
    {
     "name": "stderr",
     "output_type": "stream",
     "text": [
      "WARNING From C:\\Users\\sy8w\\OneDrive\\Documents\\Projects and Presentation\\github\\solver.py:110: The name tf.train.AdamOptimizer is deprecated. Please use tf.compat.v1.train.AdamOptimizer instead.\n",
      "\n",
      "INFO   step:     0,    loss: 1.7102e+02,   Y0: 1.2113e+01,  elapsed time  10\n",
      "INFO   z_init: -5.7571e-03\n",
      "INFO   step:   100,    loss: 1.6597e+02,   Y0: 1.1624e+01,  elapsed time  11\n",
      "INFO   z_init: 1.2083e-01\n",
      "INFO   step:   200,    loss: 1.6187e+02,   Y0: 1.1158e+01,  elapsed time  12\n",
      "INFO   z_init: 1.3791e-01\n",
      "INFO   step:   300,    loss: 1.5851e+02,   Y0: 1.0735e+01,  elapsed time  12\n",
      "INFO   z_init: 1.5872e-01\n",
      "INFO   step:   400,    loss: 1.5583e+02,   Y0: 1.0350e+01,  elapsed time  12\n",
      "INFO   z_init: 1.4810e-01\n",
      "INFO   step:   500,    loss: 1.5351e+02,   Y0: 9.9871e+00,  elapsed time  12\n",
      "INFO   z_init: 1.6884e-01\n",
      "INFO   step:   600,    loss: 1.5174e+02,   Y0: 9.6703e+00,  elapsed time  13\n",
      "INFO   z_init: 1.6688e-01\n",
      "INFO   step:   700,    loss: 1.5029e+02,   Y0: 9.3839e+00,  elapsed time  13\n",
      "INFO   z_init: 1.7585e-01\n",
      "INFO   step:   800,    loss: 1.4921e+02,   Y0: 9.1211e+00,  elapsed time  13\n",
      "INFO   z_init: 1.3557e-01\n",
      "INFO   step:   900,    loss: 1.4824e+02,   Y0: 8.9019e+00,  elapsed time  14\n",
      "INFO   z_init: 1.7766e-01\n",
      "INFO   step:  1000,    loss: 1.4761e+02,   Y0: 8.7044e+00,  elapsed time  14\n",
      "INFO   z_init: 1.4617e-01\n",
      "INFO   step:  1100,    loss: 1.4707e+02,   Y0: 8.5375e+00,  elapsed time  14\n",
      "INFO   z_init: 1.5278e-01\n",
      "INFO   step:  1200,    loss: 1.4667e+02,   Y0: 8.4108e+00,  elapsed time  15\n",
      "INFO   z_init: 1.6710e-01\n",
      "INFO   step:  1300,    loss: 1.4637e+02,   Y0: 8.3096e+00,  elapsed time  15\n",
      "INFO   z_init: 1.7940e-01\n",
      "INFO   step:  1400,    loss: 1.4617e+02,   Y0: 8.2287e+00,  elapsed time  15\n",
      "INFO   z_init: 1.8108e-01\n",
      "INFO   step:  1500,    loss: 1.4605e+02,   Y0: 8.1612e+00,  elapsed time  15\n",
      "INFO   z_init: 1.6129e-01\n",
      "INFO   step:  1600,    loss: 1.4591e+02,   Y0: 8.1021e+00,  elapsed time  16\n",
      "INFO   z_init: 1.6823e-01\n",
      "INFO   step:  1700,    loss: 1.4581e+02,   Y0: 8.0489e+00,  elapsed time  16\n",
      "INFO   z_init: 1.6317e-01\n",
      "INFO   step:  1800,    loss: 1.4574e+02,   Y0: 8.0086e+00,  elapsed time  16\n",
      "INFO   z_init: 1.5823e-01\n",
      "INFO   step:  1900,    loss: 1.4566e+02,   Y0: 7.9752e+00,  elapsed time  17\n",
      "INFO   z_init: 1.6318e-01\n",
      "INFO   step:  2000,    loss: 1.4563e+02,   Y0: 7.9670e+00,  elapsed time  17\n",
      "INFO   z_init: 1.7303e-01\n",
      "INFO   step:  2100,    loss: 1.4574e+02,   Y0: 7.9924e+00,  elapsed time  17\n",
      "INFO   z_init: 1.4407e-01\n",
      "INFO   step:  2200,    loss: 1.4567e+02,   Y0: 7.9882e+00,  elapsed time  17\n",
      "INFO   z_init: 1.7354e-01\n",
      "INFO   step:  2300,    loss: 1.4579e+02,   Y0: 7.9768e+00,  elapsed time  18\n",
      "INFO   z_init: 1.0858e-01\n",
      "INFO   step:  2400,    loss: 1.4565e+02,   Y0: 7.9560e+00,  elapsed time  18\n",
      "INFO   z_init: 1.5512e-01\n",
      "INFO   step:  2500,    loss: 1.4569e+02,   Y0: 7.9824e+00,  elapsed time  18\n",
      "INFO   z_init: 1.5697e-01\n",
      "INFO   step:  2600,    loss: 1.4575e+02,   Y0: 8.0015e+00,  elapsed time  19\n",
      "INFO   z_init: 1.4518e-01\n",
      "INFO   step:  2700,    loss: 1.4558e+02,   Y0: 7.9892e+00,  elapsed time  19\n",
      "INFO   z_init: 2.1348e-01\n",
      "INFO   step:  2800,    loss: 1.4576e+02,   Y0: 7.9682e+00,  elapsed time  19\n",
      "INFO   z_init: 1.1450e-01\n",
      "INFO   step:  2900,    loss: 1.4568e+02,   Y0: 7.9738e+00,  elapsed time  20\n",
      "INFO   z_init: 1.5619e-01\n",
      "INFO   step:  3000,    loss: 1.4560e+02,   Y0: 7.9735e+00,  elapsed time  20\n",
      "INFO   z_init: 1.9110e-01\n",
      "INFO   step:  3100,    loss: 1.4566e+02,   Y0: 7.9749e+00,  elapsed time  20\n",
      "INFO   z_init: 1.6661e-01\n",
      "INFO   step:  3200,    loss: 1.4572e+02,   Y0: 7.9621e+00,  elapsed time  20\n",
      "INFO   z_init: 1.2763e-01\n",
      "INFO   step:  3300,    loss: 1.4567e+02,   Y0: 7.9854e+00,  elapsed time  21\n",
      "INFO   z_init: 1.6911e-01\n",
      "INFO   step:  3400,    loss: 1.4560e+02,   Y0: 7.9439e+00,  elapsed time  21\n",
      "INFO   z_init: 1.6631e-01\n",
      "INFO   step:  3500,    loss: 1.4563e+02,   Y0: 7.9778e+00,  elapsed time  21\n",
      "INFO   z_init: 1.7874e-01\n",
      "INFO   step:  3600,    loss: 1.4555e+02,   Y0: 8.0089e+00,  elapsed time  22\n",
      "INFO   z_init: 2.4937e-01\n",
      "INFO   step:  3700,    loss: 1.4562e+02,   Y0: 7.9749e+00,  elapsed time  22\n",
      "INFO   z_init: 1.8437e-01\n",
      "INFO   step:  3800,    loss: 1.4563e+02,   Y0: 7.9312e+00,  elapsed time  22\n",
      "INFO   z_init: 1.4252e-01\n",
      "INFO   step:  3900,    loss: 1.4566e+02,   Y0: 7.9546e+00,  elapsed time  23\n",
      "INFO   z_init: 1.4934e-01\n",
      "INFO   step:  4000,    loss: 1.4569e+02,   Y0: 7.9666e+00,  elapsed time  23\n",
      "INFO   z_init: 1.4625e-01\n"
     ]
    }
   ],
   "source": [
    "weight_list=[]\n",
    "problem_name = FLAGS.problem_name\n",
    "config = get_config(problem_name)\n",
    "bsde = get_equation(problem_name, config.dim, config.total_time, config.num_time_interval)\n",
    "\n",
    "if not os.path.exists(FLAGS.log_dir):\n",
    "    os.mkdir(FLAGS.log_dir)\n",
    "path_prefix = os.path.join(FLAGS.log_dir, problem_name)\n",
    "with open('{}_config.json'.format(path_prefix), 'w') as outfile:\n",
    "    json.dump(dict((name, getattr(config, name))\n",
    "                    for name in dir(config) if not name.startswith('__')),\n",
    "                outfile, indent=2)\n",
    "logging.basicConfig(level=logging.INFO,\n",
    "                    format='%(levelname)-6s %(message)s')\n",
    "\n",
    "for idx_run in range(1, FLAGS.num_run+1):\n",
    "    tf.reset_default_graph()\n",
    "    with tf.Session() as sess:\n",
    "        logging.info('Begin to solve %s with run %d' % (problem_name, idx_run))\n",
    "        model = FeedForwardModel(config, bsde, sess)\n",
    "        if bsde.y_init:\n",
    "            logging.info('Y0_true: %.4e' % bsde.y_init)\n",
    "        model.build()\n",
    "        training_history, graphs = model.train()\n",
    "        for i in tf.trainable_variables():\n",
    "            temp=i.name.split('/')\n",
    "            #print(temp)\n",
    "            if len(temp)>1:\n",
    "                if temp[1]=='1':\n",
    "                    weight_list.append(sess.run(i))\n",
    "            #print(i.name)\n",
    "            #print(sess.run(i))\n",
    "            #print('\\n')\n",
    "        if bsde.y_init:\n",
    "            logging.info('relative error of Y0: %s',\n",
    "                            '{:.2%}'.format(\n",
    "                                abs(bsde.y_init - training_history[-1, 2])/bsde.y_init))\n",
    "        # save training history\n",
    "        np.savetxt('{}_training_history_{}.csv'.format(path_prefix, idx_run),\n",
    "                    training_history,\n",
    "                    fmt=['%d', '%.5e', '%.5e', '%d'],\n",
    "                    delimiter=\",\",\n",
    "                    header=\"step,loss_function,target_value,elapsed_time\",\n",
    "                    comments='')\n",
    "\n",
    "g=graphs"
   ]
  },
  {
   "cell_type": "code",
   "execution_count": 6,
   "metadata": {},
   "outputs": [],
   "source": [
    "def sigmoid(d):\n",
    "    return 1/(1+np.exp(-d))\n",
    "\n",
    "def relu(d):\n",
    "    return np.maximum(d,0)"
   ]
  },
  {
   "cell_type": "code",
   "execution_count": 7,
   "metadata": {},
   "outputs": [
    {
     "data": {
      "text/plain": [
       "[array([[-0.9637853 , -0.08140064, -0.12801078,  0.75271453,  1.36303914,\n",
       "          0.15376252, -0.41426637, -2.07310416,  0.12798492,  0.11166282,\n",
       "          0.07300716]]),\n",
       " array([[-7.47204679e-01,  1.06289885e+00,  1.57241649e+00,\n",
       "         -1.86142643e-01, -4.10484078e-01,  3.19091684e-01,\n",
       "         -2.73764701e-01,  1.49730232e+00, -1.99557390e+00,\n",
       "          4.92573694e-01,  1.97399852e+00],\n",
       "        [-2.85291612e-01,  5.46037882e-01,  1.31871467e+00,\n",
       "          1.80458210e+00,  1.10073069e-01,  1.44991446e+00,\n",
       "         -1.51113220e-01, -3.22916872e-01, -4.54821950e-01,\n",
       "         -1.14935478e-01,  8.23006221e-01],\n",
       "        [ 2.67702525e+00,  9.14085387e-01, -4.55701977e-01,\n",
       "          1.83075142e+00, -4.63056444e-02,  4.83816537e-01,\n",
       "         -9.71560853e-01, -1.03958302e+00,  6.78878031e-01,\n",
       "          6.18217357e-01, -5.35432115e-01],\n",
       "        [-1.81712747e+00,  1.84761392e-01,  6.31375154e-01,\n",
       "         -3.42268389e-01, -5.30678670e-01, -6.34533054e-01,\n",
       "          8.85155941e-01,  4.73905574e-01,  1.69522218e+00,\n",
       "         -1.42974931e+00,  1.88146599e+00],\n",
       "        [-1.61551030e+00,  3.33080701e-01, -1.50861653e+00,\n",
       "          3.13248157e-01, -1.38087197e-03, -1.71744758e+00,\n",
       "         -1.29538365e+00,  2.86957209e-01, -5.76974614e-01,\n",
       "         -2.56034583e+00,  8.87604092e-01],\n",
       "        [ 1.61177927e-01, -1.90056377e-01, -1.10268729e+00,\n",
       "          4.43524103e-01,  1.29528502e+00,  6.39721077e-01,\n",
       "         -1.02067914e+00,  2.34355012e-01,  5.70998067e-01,\n",
       "         -1.04401122e-01,  2.15537414e+00],\n",
       "        [-3.85271656e-02,  4.42006507e-01,  1.69150558e-01,\n",
       "          1.11148079e+00,  9.31421380e-01, -9.33605585e-02,\n",
       "         -1.73649910e-01,  2.99576091e-01, -1.31606335e+00,\n",
       "          1.54811730e+00, -1.01216701e+00],\n",
       "        [ 8.22903181e-02,  1.11769858e+00, -1.95899079e-01,\n",
       "         -3.80396594e-01,  5.47537815e-02, -6.17381200e-01,\n",
       "          2.00529078e-01,  6.03972092e-01, -4.81875864e-01,\n",
       "         -1.76451747e+00,  1.14141260e+00],\n",
       "        [ 1.19076555e+00,  1.00045179e+00,  2.17884822e-02,\n",
       "          1.19928024e+00,  6.38767861e-01, -1.12089014e+00,\n",
       "         -7.07353178e-01,  1.45113043e+00, -1.26412670e+00,\n",
       "         -1.25522956e+00,  8.05372385e-01],\n",
       "        [ 1.62161593e+00,  1.50336779e+00, -6.03914988e-02,\n",
       "          5.10259951e-01,  7.53818237e-01, -1.27730383e+00,\n",
       "         -1.95272430e-01, -1.66689583e-02, -2.87564835e-01,\n",
       "          7.57617531e-01, -6.80244421e-02],\n",
       "        [-1.05034037e+00, -1.13342892e+00, -1.17727955e+00,\n",
       "          3.34532645e-01, -2.19771746e+00, -7.94023730e-01,\n",
       "         -2.91576804e-02, -1.15436910e+00,  1.46011259e+00,\n",
       "         -4.13839817e-01, -1.04024344e+00]]),\n",
       " array([[-2.64670631e+00,  4.85918605e-02,  1.77034084e-01,\n",
       "          1.16363642e+00,  6.02679034e-01, -2.72035424e-01,\n",
       "         -4.31918832e-01, -7.91222326e-02,  5.11438294e-01,\n",
       "          7.92301127e-01,  4.50770394e-01],\n",
       "        [-3.28756027e-01,  5.17555949e-01, -3.19906527e-01,\n",
       "         -1.96539316e+00,  6.25266633e-01,  1.25410202e+00,\n",
       "          1.03977108e+00, -4.86725408e-01,  1.21586100e-01,\n",
       "         -2.23663018e+00, -9.70273306e-01],\n",
       "        [ 5.21494603e-02,  6.85092471e-01,  1.75485249e+00,\n",
       "         -5.44586913e-01,  3.19294857e-01, -2.65630955e-01,\n",
       "         -2.22304597e-03, -1.94558129e+00,  9.38576238e-01,\n",
       "          9.22098656e-01,  1.10777505e+00],\n",
       "        [ 3.17217264e-01,  9.42650644e-01, -3.92931221e-01,\n",
       "         -1.14459076e+00, -6.33349103e-01, -9.87087151e-04,\n",
       "          7.53664493e-01,  3.00918292e-01, -6.46807044e-01,\n",
       "         -7.89308311e-01, -1.69771596e+00],\n",
       "        [-5.59696889e-01,  6.73108723e-01,  1.12225126e+00,\n",
       "         -2.80083545e+00, -7.11455794e-01, -1.05892534e+00,\n",
       "         -8.75906229e-02, -2.97712885e-01,  9.61684069e-02,\n",
       "          9.20725869e-01,  3.89816822e-01],\n",
       "        [-9.65397405e-02, -1.15481302e+00,  2.21041451e-02,\n",
       "         -1.39672915e+00, -6.37283977e-01,  1.52403870e+00,\n",
       "          1.02589848e+00,  1.29261007e+00, -7.81069669e-01,\n",
       "          7.38481237e-02,  1.79395628e+00],\n",
       "        [ 4.62744722e-01, -5.84938483e-01, -1.36656430e+00,\n",
       "         -6.40017147e-01, -1.05361156e+00, -1.37725245e+00,\n",
       "         -1.36386045e+00, -3.29310594e-01,  6.80060149e-01,\n",
       "         -7.48030279e-01,  1.26100755e+00],\n",
       "        [ 7.92107740e-01, -5.96746614e-01, -3.78018966e-01,\n",
       "         -9.41799888e-01,  7.28064390e-03,  5.65903500e-01,\n",
       "         -1.00043736e+00, -1.17201066e-01, -6.65842799e-01,\n",
       "          5.15063036e-01,  1.07157450e+00],\n",
       "        [-1.21554282e-01,  3.32709865e-01,  1.22872993e-01,\n",
       "         -1.36608981e+00, -1.21795615e+00,  2.01019003e+00,\n",
       "          1.14454250e+00, -2.59035997e+00, -4.87548776e-01,\n",
       "          1.19131894e+00, -3.95309683e-01],\n",
       "        [ 1.34283914e+00,  7.20067482e-01,  1.78743665e+00,\n",
       "          6.89626995e-01,  1.66184776e+00, -8.56558770e-01,\n",
       "         -4.71636842e-01,  1.03120884e+00,  8.26479384e-01,\n",
       "          1.39996176e+00,  1.78255950e-01],\n",
       "        [-1.46523068e-01,  1.60363549e+00,  8.68782646e-02,\n",
       "          8.60054610e-01, -3.99945070e-01, -6.52278335e-02,\n",
       "          1.63865961e-01,  7.37985253e-01, -1.01072318e+00,\n",
       "         -6.04655796e-01, -1.38550324e+00]]),\n",
       " array([[ 0.79398378],\n",
       "        [-0.13947686],\n",
       "        [-0.27346075],\n",
       "        [ 1.34269167],\n",
       "        [-0.11861504],\n",
       "        [ 0.72178366],\n",
       "        [ 1.22218777],\n",
       "        [-1.50095311],\n",
       "        [-0.24648913],\n",
       "        [ 2.66218076],\n",
       "        [-1.13796411]]),\n",
       " array([0.10767502])]"
      ]
     },
     "execution_count": 7,
     "metadata": {},
     "output_type": "execute_result"
    }
   ],
   "source": [
    "weight_list"
   ]
  },
  {
   "cell_type": "code",
   "execution_count": 8,
   "metadata": {},
   "outputs": [
    {
     "data": {
      "text/plain": [
       "[<matplotlib.lines.Line2D at 0x16a05ee8b08>]"
      ]
     },
     "execution_count": 8,
     "metadata": {},
     "output_type": "execute_result"
    },
    {
     "data": {
      "image/png": "[encoded data removed]",
      "text/plain": [
       "<Figure size 432x288 with 1 Axes>"
      ]
     },
     "metadata": {
      "needs_background": "light"
     },
     "output_type": "display_data"
    }
   ],
   "source": [
    "a=weight_list[0]\n",
    "b=weight_list[1]\n",
    "c=weight_list[2]\n",
    "d=weight_list[3]\n",
    "e=weight_list[4]\n",
    "\n",
    "def layer(x):\n",
    "    x=relu(a.dot(x).T)\n",
    "    x=relu((b.T).dot(x))\n",
    "    x=relu((c.T).dot(x))\n",
    "    x=(d.T).dot(x)\n",
    "    return sigmoid(x+e)\n",
    "\n",
    "y=[layer(x) for x in np.linspace(80,120, 82)]\n",
    "y=np.array(y).reshape(len(y),1)\n",
    "fig, ax = plt.subplots()\n",
    "ax.plot(np.linspace(80,120, 82),y)"
   ]
  },
  {
   "cell_type": "code",
   "execution_count": 9,
   "metadata": {
    "scrolled": false
   },
   "outputs": [
    {
     "data": {
      "image/png": "[encoded data removed]",
      "text/plain": [
       "<Figure size 432x288 with 1 Axes>"
      ]
     },
     "metadata": {
      "needs_background": "light"
     },
     "output_type": "display_data"
    },
    {
     "data": {
      "image/png": "[encoded data removed]",
      "text/plain": [
       "<Figure size 432x288 with 1 Axes>"
      ]
     },
     "metadata": {
      "needs_background": "light"
     },
     "output_type": "display_data"
    },
    {
     "data": {
      "image/png": "[encoded data removed]",
      "text/plain": [
       "<Figure size 432x288 with 1 Axes>"
      ]
     },
     "metadata": {
      "needs_background": "light"
     },
     "output_type": "display_data"
    },
    {
     "data": {
      "image/png": "[encoded data removed]",
      "text/plain": [
       "<Figure size 432x288 with 1 Axes>"
      ]
     },
     "metadata": {
      "needs_background": "light"
     },
     "output_type": "display_data"
    },
    {
     "data": {
      "image/png": "[encoded data removed]",
      "text/plain": [
       "<Figure size 432x288 with 1 Axes>"
      ]
     },
     "metadata": {
      "needs_background": "light"
     },
     "output_type": "display_data"
    },
    {
     "data": {
      "image/png": "[encoded data removed]",
      "text/plain": [
       "<Figure size 432x288 with 1 Axes>"
      ]
     },
     "metadata": {
      "needs_background": "light"
     },
     "output_type": "display_data"
    },
    {
     "data": {
      "image/png": "[encoded data removed]",
      "text/plain": [
       "<Figure size 432x288 with 1 Axes>"
      ]
     },
     "metadata": {
      "needs_background": "light"
     },
     "output_type": "display_data"
    },
    {
     "data": {
      "image/png": "[encoded data removed]",
      "text/plain": [
       "<Figure size 432x288 with 1 Axes>"
      ]
     },
     "metadata": {
      "needs_background": "light"
     },
     "output_type": "display_data"
    },
    {
     "data": {
      "image/png": "[encoded data removed]",
      "text/plain": [
       "<Figure size 432x288 with 1 Axes>"
      ]
     },
     "metadata": {
      "needs_background": "light"
     },
     "output_type": "display_data"
    }
   ],
   "source": [
    "for i in range(len(g)):\n",
    "    fig, ax = plt.subplots()\n",
    "    ax.plot(np.linspace(80,120, 82),np.array(g[i]).flatten())"
   ]
  },
  {
   "cell_type": "code",
   "execution_count": null,
   "metadata": {},
   "outputs": [],
   "source": []
  },
  {
   "cell_type": "code",
   "execution_count": null,
   "metadata": {},
   "outputs": [],
   "source": []
  }
 ],
 "metadata": {
  "kernelspec": {
   "display_name": "Python 3",
   "language": "python",
   "name": "python3"
  },
  "language_info": {
   "codemirror_mode": {
    "name": "ipython",
    "version": 3
   },
   "file_extension": ".py",
   "mimetype": "text/x-python",
   "name": "python",
   "nbconvert_exporter": "python",
   "pygments_lexer": "ipython3",
   "version": "3.7.5"
  }
 },
 "nbformat": 4,
 "nbformat_minor": 2
}
