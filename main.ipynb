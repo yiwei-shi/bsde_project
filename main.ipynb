{
 "cells": [
  {
   "cell_type": "code",
   "execution_count": 1,
   "metadata": {
    "scrolled": true
   },
   "outputs": [
    {
     "name": "stderr",
     "output_type": "stream",
     "text": [
      "C:\\Anaconda3\\envs\\tensorflow\\lib\\site-packages\\tensorflow\\python\\framework\\dtypes.py:516: FutureWarning: Passing (type, 1) or '1type' as a synonym of type is deprecated; in a future version of numpy, it will be understood as (type, (1,)) / '(1,)type'.\n",
      "  _np_qint8 = np.dtype([(\"qint8\", np.int8, 1)])\n",
      "C:\\Anaconda3\\envs\\tensorflow\\lib\\site-packages\\tensorflow\\python\\framework\\dtypes.py:517: FutureWarning: Passing (type, 1) or '1type' as a synonym of type is deprecated; in a future version of numpy, it will be understood as (type, (1,)) / '(1,)type'.\n",
      "  _np_quint8 = np.dtype([(\"quint8\", np.uint8, 1)])\n",
      "C:\\Anaconda3\\envs\\tensorflow\\lib\\site-packages\\tensorflow\\python\\framework\\dtypes.py:518: FutureWarning: Passing (type, 1) or '1type' as a synonym of type is deprecated; in a future version of numpy, it will be understood as (type, (1,)) / '(1,)type'.\n",
      "  _np_qint16 = np.dtype([(\"qint16\", np.int16, 1)])\n",
      "C:\\Anaconda3\\envs\\tensorflow\\lib\\site-packages\\tensorflow\\python\\framework\\dtypes.py:519: FutureWarning: Passing (type, 1) or '1type' as a synonym of type is deprecated; in a future version of numpy, it will be understood as (type, (1,)) / '(1,)type'.\n",
      "  _np_quint16 = np.dtype([(\"quint16\", np.uint16, 1)])\n",
      "C:\\Anaconda3\\envs\\tensorflow\\lib\\site-packages\\tensorflow\\python\\framework\\dtypes.py:520: FutureWarning: Passing (type, 1) or '1type' as a synonym of type is deprecated; in a future version of numpy, it will be understood as (type, (1,)) / '(1,)type'.\n",
      "  _np_qint32 = np.dtype([(\"qint32\", np.int32, 1)])\n",
      "C:\\Anaconda3\\envs\\tensorflow\\lib\\site-packages\\tensorflow\\python\\framework\\dtypes.py:525: FutureWarning: Passing (type, 1) or '1type' as a synonym of type is deprecated; in a future version of numpy, it will be understood as (type, (1,)) / '(1,)type'.\n",
      "  np_resource = np.dtype([(\"resource\", np.ubyte, 1)])\n",
      "C:\\Anaconda3\\envs\\tensorflow\\lib\\site-packages\\tensorboard\\compat\\tensorflow_stub\\dtypes.py:541: FutureWarning: Passing (type, 1) or '1type' as a synonym of type is deprecated; in a future version of numpy, it will be understood as (type, (1,)) / '(1,)type'.\n",
      "  _np_qint8 = np.dtype([(\"qint8\", np.int8, 1)])\n",
      "C:\\Anaconda3\\envs\\tensorflow\\lib\\site-packages\\tensorboard\\compat\\tensorflow_stub\\dtypes.py:542: FutureWarning: Passing (type, 1) or '1type' as a synonym of type is deprecated; in a future version of numpy, it will be understood as (type, (1,)) / '(1,)type'.\n",
      "  _np_quint8 = np.dtype([(\"quint8\", np.uint8, 1)])\n",
      "C:\\Anaconda3\\envs\\tensorflow\\lib\\site-packages\\tensorboard\\compat\\tensorflow_stub\\dtypes.py:543: FutureWarning: Passing (type, 1) or '1type' as a synonym of type is deprecated; in a future version of numpy, it will be understood as (type, (1,)) / '(1,)type'.\n",
      "  _np_qint16 = np.dtype([(\"qint16\", np.int16, 1)])\n",
      "C:\\Anaconda3\\envs\\tensorflow\\lib\\site-packages\\tensorboard\\compat\\tensorflow_stub\\dtypes.py:544: FutureWarning: Passing (type, 1) or '1type' as a synonym of type is deprecated; in a future version of numpy, it will be understood as (type, (1,)) / '(1,)type'.\n",
      "  _np_quint16 = np.dtype([(\"quint16\", np.uint16, 1)])\n",
      "C:\\Anaconda3\\envs\\tensorflow\\lib\\site-packages\\tensorboard\\compat\\tensorflow_stub\\dtypes.py:545: FutureWarning: Passing (type, 1) or '1type' as a synonym of type is deprecated; in a future version of numpy, it will be understood as (type, (1,)) / '(1,)type'.\n",
      "  _np_qint32 = np.dtype([(\"qint32\", np.int32, 1)])\n",
      "C:\\Anaconda3\\envs\\tensorflow\\lib\\site-packages\\tensorboard\\compat\\tensorflow_stub\\dtypes.py:550: FutureWarning: Passing (type, 1) or '1type' as a synonym of type is deprecated; in a future version of numpy, it will be understood as (type, (1,)) / '(1,)type'.\n",
      "  np_resource = np.dtype([(\"resource\", np.ubyte, 1)])\n"
     ]
    }
   ],
   "source": [
    "import json\n",
    "import logging\n",
    "import os\n",
    "import numpy as np\n",
    "import tensorflow as tf\n",
    "import matplotlib.pyplot as plt\n",
    "from scipy.stats import norm\n",
    "from scipy import interpolate"
   ]
  },
  {
   "cell_type": "code",
   "execution_count": 2,
   "metadata": {},
   "outputs": [],
   "source": [
    "from config import get_config\n",
    "from equation import get_equation\n",
    "from solver import FeedForwardModel"
   ]
  },
  {
   "cell_type": "code",
   "execution_count": 3,
   "metadata": {},
   "outputs": [
    {
     "name": "stdout",
     "output_type": "stream",
     "text": [
      "7.965567455405804\n"
     ]
    }
   ],
   "source": [
    "s0=100\n",
    "k=100\n",
    "r=0.00\n",
    "sigma=0.20\n",
    "T=1\n",
    "\n",
    "d1=(np.log(s0/k)+(r+sigma*sigma/2)*T)/(sigma*np.sqrt(T))\n",
    "d2=(np.log(s0/k)+(r-sigma*sigma/2)*T)/(sigma*np.sqrt(T))\n",
    "\n",
    "print(norm.cdf(d1)*s0-norm.cdf(d2)*k*np.exp(-r*T))"
   ]
  },
  {
   "cell_type": "code",
   "execution_count": 4,
   "metadata": {},
   "outputs": [],
   "source": [
    "def del_all_flags(FLAGS):\n",
    "    flags_dict = FLAGS._flags()    \n",
    "    keys_list = [keys for keys in flags_dict]    \n",
    "    for keys in keys_list:\n",
    "        FLAGS.__delattr__(keys)\n",
    "\n",
    "del_all_flags(tf.app.flags.FLAGS)\n",
    "\n",
    "FLAGS = tf.app.flags.FLAGS\n",
    "tf.app.flags.DEFINE_string('f', '', 'kernel')\n",
    "\n",
    "tf.app.flags.DEFINE_string('problem_name', 'EuropeanCall',\n",
    "                           \"\"\"The name of partial differential equation.\"\"\")\n",
    "tf.app.flags.DEFINE_integer('num_run', 1,\n",
    "                            \"\"\"The number of experiments to repeatedly run for the same problem.\"\"\")\n",
    "tf.app.flags.DEFINE_string('log_dir', './logs',\n",
    "                           \"\"\"Directory where to write event logs and output array.\"\"\")"
   ]
  },
  {
   "cell_type": "code",
   "execution_count": 5,
   "metadata": {
    "scrolled": false
   },
   "outputs": [
    {
     "name": "stderr",
     "output_type": "stream",
     "text": [
      "INFO   Begin to solve EuropeanCall with run 1\n"
     ]
    },
    {
     "name": "stdout",
     "output_type": "stream",
     "text": [
      "WARNING:tensorflow:From C:\\Users\\sy8w\\OneDrive\\Documents\\Projects and Presentation\\github\\solver.py:58: The name tf.placeholder is deprecated. Please use tf.compat.v1.placeholder instead.\n",
      "\n"
     ]
    },
    {
     "name": "stderr",
     "output_type": "stream",
     "text": [
      "WARNING From C:\\Users\\sy8w\\OneDrive\\Documents\\Projects and Presentation\\github\\solver.py:58: The name tf.placeholder is deprecated. Please use tf.compat.v1.placeholder instead.\n",
      "\n"
     ]
    },
    {
     "name": "stdout",
     "output_type": "stream",
     "text": [
      "WARNING:tensorflow:From C:\\Users\\sy8w\\OneDrive\\Documents\\Projects and Presentation\\github\\solver.py:61: The name tf.random_uniform is deprecated. Please use tf.random.uniform instead.\n",
      "\n"
     ]
    },
    {
     "name": "stderr",
     "output_type": "stream",
     "text": [
      "WARNING From C:\\Users\\sy8w\\OneDrive\\Documents\\Projects and Presentation\\github\\solver.py:61: The name tf.random_uniform is deprecated. Please use tf.random.uniform instead.\n",
      "\n"
     ]
    },
    {
     "name": "stdout",
     "output_type": "stream",
     "text": [
      "WARNING:tensorflow:From C:\\Users\\sy8w\\OneDrive\\Documents\\Projects and Presentation\\github\\solver.py:76: The name tf.variable_scope is deprecated. Please use tf.compat.v1.variable_scope instead.\n",
      "\n"
     ]
    },
    {
     "name": "stderr",
     "output_type": "stream",
     "text": [
      "WARNING From C:\\Users\\sy8w\\OneDrive\\Documents\\Projects and Presentation\\github\\solver.py:76: The name tf.variable_scope is deprecated. Please use tf.compat.v1.variable_scope instead.\n",
      "\n"
     ]
    },
    {
     "name": "stdout",
     "output_type": "stream",
     "text": [
      "t: 0\n",
      "WARNING:tensorflow:From C:\\Users\\sy8w\\OneDrive\\Documents\\Projects and Presentation\\github\\solver.py:83: calling reduce_sum_v1 (from tensorflow.python.ops.math_ops) with keep_dims is deprecated and will be removed in a future version.\n",
      "Instructions for updating:\n",
      "keep_dims is deprecated, use keepdims instead\n"
     ]
    },
    {
     "name": "stderr",
     "output_type": "stream",
     "text": [
      "WARNING From C:\\Users\\sy8w\\OneDrive\\Documents\\Projects and Presentation\\github\\solver.py:83: calling reduce_sum_v1 (from tensorflow.python.ops.math_ops) with keep_dims is deprecated and will be removed in a future version.\n",
      "Instructions for updating:\n",
      "keep_dims is deprecated, use keepdims instead\n"
     ]
    },
    {
     "name": "stdout",
     "output_type": "stream",
     "text": [
      "WARNING:tensorflow:From C:\\Users\\sy8w\\OneDrive\\Documents\\Projects and Presentation\\github\\solver.py:125: The name tf.AUTO_REUSE is deprecated. Please use tf.compat.v1.AUTO_REUSE instead.\n",
      "\n"
     ]
    },
    {
     "name": "stderr",
     "output_type": "stream",
     "text": [
      "WARNING From C:\\Users\\sy8w\\OneDrive\\Documents\\Projects and Presentation\\github\\solver.py:125: The name tf.AUTO_REUSE is deprecated. Please use tf.compat.v1.AUTO_REUSE instead.\n",
      "\n"
     ]
    },
    {
     "name": "stdout",
     "output_type": "stream",
     "text": [
      "WARNING:tensorflow:From C:\\Users\\sy8w\\OneDrive\\Documents\\Projects and Presentation\\github\\solver.py:145: The name tf.get_variable is deprecated. Please use tf.compat.v1.get_variable instead.\n",
      "\n"
     ]
    },
    {
     "name": "stderr",
     "output_type": "stream",
     "text": [
      "WARNING From C:\\Users\\sy8w\\OneDrive\\Documents\\Projects and Presentation\\github\\solver.py:145: The name tf.get_variable is deprecated. Please use tf.compat.v1.get_variable instead.\n",
      "\n"
     ]
    },
    {
     "name": "stdout",
     "output_type": "stream",
     "text": [
      "t: 1\n",
      "t: 2\n",
      "t: 3\n",
      "t: 4\n",
      "t: 5\n",
      "t: 6\n",
      "t: 7\n",
      "t: 8\n",
      "WARNING:tensorflow:From C:\\Users\\sy8w\\OneDrive\\Documents\\Projects and Presentation\\github\\solver.py:105: The name tf.train.piecewise_constant is deprecated. Please use tf.compat.v1.train.piecewise_constant instead.\n",
      "\n"
     ]
    },
    {
     "name": "stderr",
     "output_type": "stream",
     "text": [
      "WARNING From C:\\Users\\sy8w\\OneDrive\\Documents\\Projects and Presentation\\github\\solver.py:105: The name tf.train.piecewise_constant is deprecated. Please use tf.compat.v1.train.piecewise_constant instead.\n",
      "\n"
     ]
    },
    {
     "name": "stdout",
     "output_type": "stream",
     "text": [
      "WARNING:tensorflow:From C:\\Users\\sy8w\\OneDrive\\Documents\\Projects and Presentation\\github\\solver.py:110: The name tf.train.AdamOptimizer is deprecated. Please use tf.compat.v1.train.AdamOptimizer instead.\n",
      "\n"
     ]
    },
    {
     "name": "stderr",
     "output_type": "stream",
     "text": [
      "WARNING From C:\\Users\\sy8w\\OneDrive\\Documents\\Projects and Presentation\\github\\solver.py:110: The name tf.train.AdamOptimizer is deprecated. Please use tf.compat.v1.train.AdamOptimizer instead.\n",
      "\n",
      "INFO   step:     0,    loss: 1.4917e+02,   Y0: 5.6128e+00,  elapsed time  11\n",
      "INFO   z_init: 3.8264e-02\n",
      "INFO   step:    50,    loss: 1.4839e+02,   Y0: 5.8595e+00,  elapsed time  26\n",
      "INFO   z_init: 1.9622e-01\n",
      "INFO   step:   100,    loss: 1.4724e+02,   Y0: 6.0938e+00,  elapsed time  41\n",
      "INFO   z_init: 1.8684e-01\n",
      "INFO   step:   150,    loss: 1.4630e+02,   Y0: 6.3136e+00,  elapsed time  57\n",
      "INFO   z_init: 1.8780e-01\n",
      "INFO   step:   200,    loss: 1.4551e+02,   Y0: 6.5184e+00,  elapsed time  72\n",
      "INFO   z_init: 1.8784e-01\n",
      "INFO   step:   250,    loss: 1.4485e+02,   Y0: 6.7078e+00,  elapsed time  87\n",
      "INFO   z_init: 1.8785e-01\n",
      "INFO   step:   300,    loss: 1.4431e+02,   Y0: 6.8818e+00,  elapsed time 101\n",
      "INFO   z_init: 1.8786e-01\n",
      "INFO   step:   350,    loss: 1.4387e+02,   Y0: 7.0401e+00,  elapsed time 116\n",
      "INFO   z_init: 1.8787e-01\n",
      "INFO   step:   400,    loss: 1.4351e+02,   Y0: 7.1828e+00,  elapsed time 130\n",
      "INFO   z_init: 1.8788e-01\n",
      "INFO   step:   450,    loss: 1.4323e+02,   Y0: 7.3102e+00,  elapsed time 145\n",
      "INFO   z_init: 1.8789e-01\n",
      "INFO   step:   500,    loss: 1.4301e+02,   Y0: 7.4227e+00,  elapsed time 160\n",
      "INFO   z_init: 1.8790e-01\n",
      "INFO   step:   550,    loss: 1.4284e+02,   Y0: 7.5209e+00,  elapsed time 175\n",
      "INFO   z_init: 1.8790e-01\n",
      "INFO   step:   600,    loss: 1.4270e+02,   Y0: 7.6057e+00,  elapsed time 189\n",
      "INFO   z_init: 1.8791e-01\n",
      "INFO   step:   650,    loss: 1.4260e+02,   Y0: 7.6779e+00,  elapsed time 204\n",
      "INFO   z_init: 1.8792e-01\n",
      "INFO   step:   700,    loss: 1.4252e+02,   Y0: 7.7387e+00,  elapsed time 219\n",
      "INFO   z_init: 1.8792e-01\n",
      "INFO   step:   750,    loss: 1.4246e+02,   Y0: 7.7891e+00,  elapsed time 234\n",
      "INFO   z_init: 1.8792e-01\n",
      "INFO   step:   800,    loss: 1.4242e+02,   Y0: 7.8305e+00,  elapsed time 249\n",
      "INFO   z_init: 1.8793e-01\n",
      "INFO   step:   850,    loss: 1.4238e+02,   Y0: 7.8640e+00,  elapsed time 264\n",
      "INFO   z_init: 1.8793e-01\n",
      "INFO   step:   900,    loss: 1.4236e+02,   Y0: 7.8906e+00,  elapsed time 279\n",
      "INFO   z_init: 1.8793e-01\n",
      "INFO   step:   950,    loss: 1.4234e+02,   Y0: 7.9116e+00,  elapsed time 294\n",
      "INFO   z_init: 1.8793e-01\n",
      "INFO   step:  1000,    loss: 1.4233e+02,   Y0: 7.9280e+00,  elapsed time 309\n",
      "INFO   z_init: 1.8793e-01\n"
     ]
    }
   ],
   "source": [
    "weight_list=[]\n",
    "problem_name = FLAGS.problem_name\n",
    "config = get_config(problem_name)\n",
    "bsde = get_equation(problem_name, config.dim, config.total_time, config.num_time_interval)\n",
    "\n",
    "if not os.path.exists(FLAGS.log_dir):\n",
    "    os.mkdir(FLAGS.log_dir)\n",
    "path_prefix = os.path.join(FLAGS.log_dir, problem_name)\n",
    "with open('{}_config.json'.format(path_prefix), 'w') as outfile:\n",
    "    json.dump(dict((name, getattr(config, name))\n",
    "                    for name in dir(config) if not name.startswith('__')),\n",
    "                outfile, indent=2)\n",
    "logging.basicConfig(level=logging.INFO,\n",
    "                    format='%(levelname)-6s %(message)s')\n",
    "\n",
    "for idx_run in range(1, FLAGS.num_run+1):\n",
    "    tf.reset_default_graph()\n",
    "    with tf.Session() as sess:\n",
    "        logging.info('Begin to solve %s with run %d' % (problem_name, idx_run))\n",
    "        model = FeedForwardModel(config, bsde, sess)\n",
    "        if bsde.y_init:\n",
    "            logging.info('Y0_true: %.4e' % bsde.y_init)\n",
    "        model.build()\n",
    "        training_history, graphs = model.train()\n",
    "        for i in tf.trainable_variables():\n",
    "            temp=i.name.split('/')\n",
    "            #print(temp)\n",
    "            if len(temp)>1:\n",
    "                if temp[1]=='1':\n",
    "                    weight_list.append(sess.run(i))\n",
    "            #print(i.name)\n",
    "            #print(sess.run(i))\n",
    "            #print('\\n')\n",
    "        if bsde.y_init:\n",
    "            logging.info('relative error of Y0: %s',\n",
    "                            '{:.2%}'.format(\n",
    "                                abs(bsde.y_init - training_history[-1, 2])/bsde.y_init))\n",
    "        # save training history\n",
    "        np.savetxt('{}_training_history_{}.csv'.format(path_prefix, idx_run),\n",
    "                    training_history,\n",
    "                    fmt=['%d', '%.5e', '%.5e', '%d'],\n",
    "                    delimiter=\",\",\n",
    "                    header=\"step,loss_function,target_value,elapsed_time\",\n",
    "                    comments='')\n",
    "\n",
    "g=graphs"
   ]
  },
  {
   "cell_type": "code",
   "execution_count": 6,
   "metadata": {},
   "outputs": [],
   "source": [
    "def sigmoid(d):\n",
    "    return 1/(1+np.exp(-d))\n",
    "\n",
    "def relu(d):\n",
    "    return np.maximum(d,0)"
   ]
  },
  {
   "cell_type": "code",
   "execution_count": 7,
   "metadata": {},
   "outputs": [
    {
     "data": {
      "text/plain": [
       "[array([[ 1.05737462, -1.26116951,  2.16401008,  0.6598136 , -2.58728507,\n",
       "          0.0991653 , -1.16955433,  2.50187861, -1.02160723,  0.50825095,\n",
       "         -1.92261095]]),\n",
       " array([[ 0.4577948 , -0.00616504,  1.60967736,  1.5241551 , -0.20475368,\n",
       "          0.88280559,  1.29033149,  1.27523743,  0.46289288, -2.21653775,\n",
       "          0.98260403],\n",
       "        [-0.30212639,  0.58488885,  0.25564434, -0.32218492, -0.65597841,\n",
       "          0.58827189,  1.20683137, -0.23539981,  0.23741726, -0.56202514,\n",
       "         -1.73004678],\n",
       "        [ 0.7127962 ,  0.81412413, -1.44970994,  0.63062872,  1.61316697,\n",
       "         -0.49103938, -0.95013617, -2.28787583,  1.2344189 ,  0.62084571,\n",
       "          0.52393758],\n",
       "        [ 3.16010119, -0.54803146,  1.38925443, -0.88731986, -0.68923837,\n",
       "         -1.52235878,  2.33037315,  0.45668991, -1.35677043,  0.21835987,\n",
       "         -0.18694693],\n",
       "        [ 1.92189554,  0.09155713,  0.85311228, -0.01969854,  2.2642581 ,\n",
       "         -1.06662586, -0.80573682,  1.05008989,  0.21758043, -1.69414916,\n",
       "         -0.46106962],\n",
       "        [ 0.24180097,  0.7369546 , -1.73110438,  1.33506091,  1.6590307 ,\n",
       "          0.03343427, -0.2941252 ,  1.26159895, -0.52696347,  1.75984373,\n",
       "         -0.52546276],\n",
       "        [-0.27477664, -0.01882409,  0.3569283 , -0.73022197,  0.90044742,\n",
       "          0.45515295,  1.58956664,  1.52712109, -0.19795131,  0.24324431,\n",
       "          0.07150877],\n",
       "        [-0.96655279, -0.55026417, -0.37628318,  0.39025173, -0.3585294 ,\n",
       "         -0.96190581,  1.07031847, -2.19302051, -0.33209626,  2.94874137,\n",
       "         -0.51635359],\n",
       "        [ 1.40240662,  0.54056621,  0.18201571, -1.34535285, -2.49256249,\n",
       "         -0.31227513, -0.12276023, -1.66357227,  0.4302347 ,  0.26195048,\n",
       "         -1.36779055],\n",
       "        [ 0.2090865 ,  0.85694396,  0.28910608,  0.24090299,  0.06477324,\n",
       "         -1.14476826,  0.40809559, -1.57683076, -0.95457623, -0.64679439,\n",
       "         -0.11182624],\n",
       "        [-0.21806384,  1.67417804, -0.57704007, -0.0480726 , -1.54603555,\n",
       "          1.12591183,  1.66775045,  1.01916675,  0.8403988 ,  0.14384958,\n",
       "         -0.32962511]]),\n",
       " array([[-1.19560563,  0.7196822 ,  0.53748625,  0.63717423,  0.99776805,\n",
       "         -1.00534899,  1.31089889,  0.18881067, -0.61198014, -0.92601112,\n",
       "         -0.79711353],\n",
       "        [-0.9917352 , -0.31425338,  1.61714117,  0.29705126,  0.55982817,\n",
       "          1.56886306, -0.28487046, -0.87579796,  1.24558499,  2.24179469,\n",
       "         -0.02589861],\n",
       "        [ 0.38562344, -0.34705013, -1.92374795,  1.95928563, -0.68614998,\n",
       "          0.46143658,  0.29634076, -1.2450914 , -0.57236556, -2.12078531,\n",
       "          0.33902008],\n",
       "        [-0.87186468,  0.17044792,  0.03462139, -0.59052331,  0.38074326,\n",
       "          0.54058594, -0.74360485,  0.61531746, -1.8655101 ,  1.97314705,\n",
       "         -0.98773432],\n",
       "        [-0.41643118, -1.1480902 ,  1.04110367, -1.21199777, -0.14901815,\n",
       "          0.24933699,  1.02808291,  0.22268803, -0.92837346,  1.91909825,\n",
       "         -2.47630752],\n",
       "        [-0.64903133,  0.22832495, -0.41228633, -1.68107465,  0.45292409,\n",
       "         -1.60773349,  0.17135579, -0.02508202, -0.24911712,  1.55010742,\n",
       "         -0.81417603],\n",
       "        [-1.48706978,  0.44811271, -1.40063725, -0.35961917,  1.15315438,\n",
       "         -0.43810247,  1.21868541, -1.66434953,  0.92121843,  1.28453851,\n",
       "          0.42742765],\n",
       "        [ 1.31420509,  0.45897777,  2.17655982,  2.09417936, -1.40641165,\n",
       "          0.30803526,  0.41555341, -0.2755847 ,  0.18095004, -0.17306729,\n",
       "          0.54630755],\n",
       "        [-0.61313963, -0.79864511, -0.77866932, -1.03387216,  0.5041013 ,\n",
       "          0.48238766,  1.35088864,  1.03248912, -1.89418271,  0.2181215 ,\n",
       "         -0.57408049],\n",
       "        [ 0.52490994, -1.35309452, -0.10788468,  0.74998699,  0.90913787,\n",
       "         -0.73510084,  0.10350553, -0.70883893, -0.48713897, -1.54447842,\n",
       "          0.99913488],\n",
       "        [ 0.72467296,  0.74095687,  0.19745814, -0.06732655,  0.48951836,\n",
       "         -1.07657982, -1.53148482, -1.92706776, -1.29232328,  0.36088686,\n",
       "          0.28944528]]),\n",
       " array([[ 2.17642334],\n",
       "        [ 2.41868146],\n",
       "        [ 1.25889268],\n",
       "        [-0.39264835],\n",
       "        [ 0.1624383 ],\n",
       "        [ 3.09140246],\n",
       "        [ 0.84770221],\n",
       "        [-0.61849062],\n",
       "        [ 0.17392966],\n",
       "        [ 2.29833821],\n",
       "        [ 2.56358636]]),\n",
       " array([-0.00261481])]"
      ]
     },
     "execution_count": 7,
     "metadata": {},
     "output_type": "execute_result"
    }
   ],
   "source": [
    "weight_list"
   ]
  },
  {
   "cell_type": "code",
   "execution_count": 8,
   "metadata": {},
   "outputs": [
    {
     "data": {
      "text/plain": [
       "[<matplotlib.lines.Line2D at 0x28a4a3ef508>]"
      ]
     },
     "execution_count": 8,
     "metadata": {},
     "output_type": "execute_result"
    },
    {
     "data": {
      "image/png": "[encoded data removed]",
      "text/plain": [
       "<Figure size 432x288 with 1 Axes>"
      ]
     },
     "metadata": {
      "needs_background": "light"
     },
     "output_type": "display_data"
    }
   ],
   "source": [
    "a=weight_list[0]\n",
    "b=weight_list[1]\n",
    "c=weight_list[2]\n",
    "d=weight_list[3]\n",
    "e=weight_list[4]\n",
    "\n",
    "def layer(x):\n",
    "    x=relu(a.dot(x).T)\n",
    "    x=relu((b.T).dot(x))\n",
    "    x=relu((c.T).dot(x))\n",
    "    x=(d.T).dot(x)\n",
    "    return sigmoid(x+e)\n",
    "\n",
    "y=[layer(x) for x in np.linspace(80,120, 82)]\n",
    "y=np.array(y).reshape(len(y),1)\n",
    "fig, ax = plt.subplots()\n",
    "ax.plot(np.linspace(80,120, 82),y)"
   ]
  },
  {
   "cell_type": "code",
   "execution_count": 9,
   "metadata": {
    "scrolled": false
   },
   "outputs": [
    {
     "data": {
      "image/png": "[encoded data removed]",
      "text/plain": [
       "<Figure size 432x288 with 1 Axes>"
      ]
     },
     "metadata": {
      "needs_background": "light"
     },
     "output_type": "display_data"
    },
    {
     "data": {
      "image/png": "[encoded data removed]",
      "text/plain": [
       "<Figure size 432x288 with 1 Axes>"
      ]
     },
     "metadata": {
      "needs_background": "light"
     },
     "output_type": "display_data"
    },
    {
     "data": {
      "image/png": "[encoded data removed]",
      "text/plain": [
       "<Figure size 432x288 with 1 Axes>"
      ]
     },
     "metadata": {
      "needs_background": "light"
     },
     "output_type": "display_data"
    },
    {
     "data": {
      "image/png": "[encoded data removed]",
      "text/plain": [
       "<Figure size 432x288 with 1 Axes>"
      ]
     },
     "metadata": {
      "needs_background": "light"
     },
     "output_type": "display_data"
    },
    {
     "data": {
      "image/png": "[encoded data removed]",
      "text/plain": [
       "<Figure size 432x288 with 1 Axes>"
      ]
     },
     "metadata": {
      "needs_background": "light"
     },
     "output_type": "display_data"
    },
    {
     "data": {
      "image/png": "[encoded data removed]",
      "text/plain": [
       "<Figure size 432x288 with 1 Axes>"
      ]
     },
     "metadata": {
      "needs_background": "light"
     },
     "output_type": "display_data"
    },
    {
     "data": {
      "image/png": "[encoded data removed]",
      "text/plain": [
       "<Figure size 432x288 with 1 Axes>"
      ]
     },
     "metadata": {
      "needs_background": "light"
     },
     "output_type": "display_data"
    },
    {
     "data": {
      "image/png": "[encoded data removed]",
      "text/plain": [
       "<Figure size 432x288 with 1 Axes>"
      ]
     },
     "metadata": {
      "needs_background": "light"
     },
     "output_type": "display_data"
    },
    {
     "data": {
      "image/png": "[encoded data removed]",
      "text/plain": [
       "<Figure size 432x288 with 1 Axes>"
      ]
     },
     "metadata": {
      "needs_background": "light"
     },
     "output_type": "display_data"
    }
   ],
   "source": [
    "for i in range(len(g)):\n",
    "    fig, ax = plt.subplots()\n",
    "    ax.plot(np.linspace(80,120, 82),np.array(g[i]).flatten())"
   ]
  },
  {
   "cell_type": "code",
   "execution_count": null,
   "metadata": {},
   "outputs": [],
   "source": []
  },
  {
   "cell_type": "code",
   "execution_count": null,
   "metadata": {},
   "outputs": [],
   "source": []
  }
 ],
 "metadata": {
  "kernelspec": {
   "display_name": "Python 3",
   "language": "python",
   "name": "python3"
  },
  "language_info": {
   "codemirror_mode": {
    "name": "ipython",
    "version": 3
   },
   "file_extension": ".py",
   "mimetype": "text/x-python",
   "name": "python",
   "nbconvert_exporter": "python",
   "pygments_lexer": "ipython3",
   "version": "3.7.5"
  }
 },
 "nbformat": 4,
 "nbformat_minor": 2
}
