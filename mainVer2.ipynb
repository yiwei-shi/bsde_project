{
 "cells": [
  {
   "cell_type": "code",
   "execution_count": 1,
   "metadata": {},
   "outputs": [
    {
     "name": "stderr",
     "output_type": "stream",
     "text": [
      "C:\\Anaconda3\\envs\\tensorflow\\lib\\site-packages\\tensorflow\\python\\framework\\dtypes.py:516: FutureWarning: Passing (type, 1) or '1type' as a synonym of type is deprecated; in a future version of numpy, it will be understood as (type, (1,)) / '(1,)type'.\n",
      "  _np_qint8 = np.dtype([(\"qint8\", np.int8, 1)])\n",
      "C:\\Anaconda3\\envs\\tensorflow\\lib\\site-packages\\tensorflow\\python\\framework\\dtypes.py:517: FutureWarning: Passing (type, 1) or '1type' as a synonym of type is deprecated; in a future version of numpy, it will be understood as (type, (1,)) / '(1,)type'.\n",
      "  _np_quint8 = np.dtype([(\"quint8\", np.uint8, 1)])\n",
      "C:\\Anaconda3\\envs\\tensorflow\\lib\\site-packages\\tensorflow\\python\\framework\\dtypes.py:518: FutureWarning: Passing (type, 1) or '1type' as a synonym of type is deprecated; in a future version of numpy, it will be understood as (type, (1,)) / '(1,)type'.\n",
      "  _np_qint16 = np.dtype([(\"qint16\", np.int16, 1)])\n",
      "C:\\Anaconda3\\envs\\tensorflow\\lib\\site-packages\\tensorflow\\python\\framework\\dtypes.py:519: FutureWarning: Passing (type, 1) or '1type' as a synonym of type is deprecated; in a future version of numpy, it will be understood as (type, (1,)) / '(1,)type'.\n",
      "  _np_quint16 = np.dtype([(\"quint16\", np.uint16, 1)])\n",
      "C:\\Anaconda3\\envs\\tensorflow\\lib\\site-packages\\tensorflow\\python\\framework\\dtypes.py:520: FutureWarning: Passing (type, 1) or '1type' as a synonym of type is deprecated; in a future version of numpy, it will be understood as (type, (1,)) / '(1,)type'.\n",
      "  _np_qint32 = np.dtype([(\"qint32\", np.int32, 1)])\n",
      "C:\\Anaconda3\\envs\\tensorflow\\lib\\site-packages\\tensorflow\\python\\framework\\dtypes.py:525: FutureWarning: Passing (type, 1) or '1type' as a synonym of type is deprecated; in a future version of numpy, it will be understood as (type, (1,)) / '(1,)type'.\n",
      "  np_resource = np.dtype([(\"resource\", np.ubyte, 1)])\n",
      "C:\\Anaconda3\\envs\\tensorflow\\lib\\site-packages\\tensorboard\\compat\\tensorflow_stub\\dtypes.py:541: FutureWarning: Passing (type, 1) or '1type' as a synonym of type is deprecated; in a future version of numpy, it will be understood as (type, (1,)) / '(1,)type'.\n",
      "  _np_qint8 = np.dtype([(\"qint8\", np.int8, 1)])\n",
      "C:\\Anaconda3\\envs\\tensorflow\\lib\\site-packages\\tensorboard\\compat\\tensorflow_stub\\dtypes.py:542: FutureWarning: Passing (type, 1) or '1type' as a synonym of type is deprecated; in a future version of numpy, it will be understood as (type, (1,)) / '(1,)type'.\n",
      "  _np_quint8 = np.dtype([(\"quint8\", np.uint8, 1)])\n",
      "C:\\Anaconda3\\envs\\tensorflow\\lib\\site-packages\\tensorboard\\compat\\tensorflow_stub\\dtypes.py:543: FutureWarning: Passing (type, 1) or '1type' as a synonym of type is deprecated; in a future version of numpy, it will be understood as (type, (1,)) / '(1,)type'.\n",
      "  _np_qint16 = np.dtype([(\"qint16\", np.int16, 1)])\n",
      "C:\\Anaconda3\\envs\\tensorflow\\lib\\site-packages\\tensorboard\\compat\\tensorflow_stub\\dtypes.py:544: FutureWarning: Passing (type, 1) or '1type' as a synonym of type is deprecated; in a future version of numpy, it will be understood as (type, (1,)) / '(1,)type'.\n",
      "  _np_quint16 = np.dtype([(\"quint16\", np.uint16, 1)])\n",
      "C:\\Anaconda3\\envs\\tensorflow\\lib\\site-packages\\tensorboard\\compat\\tensorflow_stub\\dtypes.py:545: FutureWarning: Passing (type, 1) or '1type' as a synonym of type is deprecated; in a future version of numpy, it will be understood as (type, (1,)) / '(1,)type'.\n",
      "  _np_qint32 = np.dtype([(\"qint32\", np.int32, 1)])\n",
      "C:\\Anaconda3\\envs\\tensorflow\\lib\\site-packages\\tensorboard\\compat\\tensorflow_stub\\dtypes.py:550: FutureWarning: Passing (type, 1) or '1type' as a synonym of type is deprecated; in a future version of numpy, it will be understood as (type, (1,)) / '(1,)type'.\n",
      "  np_resource = np.dtype([(\"resource\", np.ubyte, 1)])\n"
     ]
    }
   ],
   "source": [
    "import json\n",
    "import logging\n",
    "import os\n",
    "import numpy as np\n",
    "import tensorflow as tf\n",
    "import matplotlib.pyplot as plt\n",
    "from scipy.stats import norm\n",
    "from scipy import interpolate"
   ]
  },
  {
   "cell_type": "code",
   "execution_count": 2,
   "metadata": {},
   "outputs": [],
   "source": [
    "from config import get_config\n",
    "from equation2 import get_equation\n",
    "from solverVer2 import FeedForwardModel"
   ]
  },
  {
   "cell_type": "code",
   "execution_count": 3,
   "metadata": {},
   "outputs": [],
   "source": [
    "def blackscholes_price(K, T, S, vol, r=0, q=0, callput='call'):\n",
    "    F = S*np.exp((r-q)*T)\n",
    "    v = np.sqrt(vol**2*T)\n",
    "    d1 = np.log(F/K)/v + 0.5*v\n",
    "    d2 = d1 - v\n",
    "    try:\n",
    "        opttype = {'call':1, 'put':-1}[callput.lower()]\n",
    "    except:\n",
    "        raise ValueError('The value of callput must be either \"call\" or \"put\".')\n",
    "    price = opttype*(F*norm.cdf(opttype*d1)-K*norm.cdf(opttype*d2))*np.exp(-r*T)\n",
    "    return price"
   ]
  },
  {
   "cell_type": "code",
   "execution_count": 4,
   "metadata": {},
   "outputs": [],
   "source": [
    "def del_all_flags(FLAGS):\n",
    "    flags_dict = FLAGS._flags()    \n",
    "    keys_list = [keys for keys in flags_dict]    \n",
    "    for keys in keys_list:\n",
    "        FLAGS.__delattr__(keys)\n",
    "\n",
    "del_all_flags(tf.flags.FLAGS)\n",
    "\n",
    "FLAGS = tf.app.flags.FLAGS\n",
    "tf.app.flags.DEFINE_string('f', '', 'kernel')\n",
    "\n",
    "tf.app.flags.DEFINE_string('problem_name', 'EuropeanCall',\n",
    "                           \"\"\"The name of partial differential equation.\"\"\")\n",
    "tf.app.flags.DEFINE_integer('num_run', 1,\n",
    "                            \"\"\"The number of experiments to repeatedly run for the same problem.\"\"\")\n",
    "tf.app.flags.DEFINE_string('log_dir', './logs',\n",
    "                           \"\"\"Directory where to write event logs and output array.\"\"\")"
   ]
  },
  {
   "cell_type": "code",
   "execution_count": 5,
   "metadata": {
    "scrolled": false
   },
   "outputs": [
    {
     "name": "stderr",
     "output_type": "stream",
     "text": [
      "INFO   Begin to solve EuropeanCall with run 1\n"
     ]
    },
    {
     "name": "stdout",
     "output_type": "stream",
     "text": [
      "WARNING:tensorflow:From C:\\Users\\sy8w\\OneDrive\\Documents\\Projects and Presentation\\github\\solverVer2.py:62: The name tf.placeholder is deprecated. Please use tf.compat.v1.placeholder instead.\n",
      "\n"
     ]
    },
    {
     "name": "stderr",
     "output_type": "stream",
     "text": [
      "WARNING From C:\\Users\\sy8w\\OneDrive\\Documents\\Projects and Presentation\\github\\solverVer2.py:62: The name tf.placeholder is deprecated. Please use tf.compat.v1.placeholder instead.\n",
      "\n"
     ]
    },
    {
     "name": "stdout",
     "output_type": "stream",
     "text": [
      "WARNING:tensorflow:From C:\\Users\\sy8w\\OneDrive\\Documents\\Projects and Presentation\\github\\solverVer2.py:66: The name tf.variable_scope is deprecated. Please use tf.compat.v1.variable_scope instead.\n",
      "\n"
     ]
    },
    {
     "name": "stderr",
     "output_type": "stream",
     "text": [
      "WARNING From C:\\Users\\sy8w\\OneDrive\\Documents\\Projects and Presentation\\github\\solverVer2.py:66: The name tf.variable_scope is deprecated. Please use tf.compat.v1.variable_scope instead.\n",
      "\n"
     ]
    },
    {
     "name": "stdout",
     "output_type": "stream",
     "text": [
      "WARNING:tensorflow:From C:\\Users\\sy8w\\OneDrive\\Documents\\Projects and Presentation\\github\\solverVer2.py:124: The name tf.AUTO_REUSE is deprecated. Please use tf.compat.v1.AUTO_REUSE instead.\n",
      "\n"
     ]
    },
    {
     "name": "stderr",
     "output_type": "stream",
     "text": [
      "WARNING From C:\\Users\\sy8w\\OneDrive\\Documents\\Projects and Presentation\\github\\solverVer2.py:124: The name tf.AUTO_REUSE is deprecated. Please use tf.compat.v1.AUTO_REUSE instead.\n",
      "\n"
     ]
    },
    {
     "name": "stdout",
     "output_type": "stream",
     "text": [
      "WARNING:tensorflow:From C:\\Users\\sy8w\\OneDrive\\Documents\\Projects and Presentation\\github\\solverVer2.py:161: The name tf.get_variable is deprecated. Please use tf.compat.v1.get_variable instead.\n",
      "\n"
     ]
    },
    {
     "name": "stderr",
     "output_type": "stream",
     "text": [
      "WARNING From C:\\Users\\sy8w\\OneDrive\\Documents\\Projects and Presentation\\github\\solverVer2.py:161: The name tf.get_variable is deprecated. Please use tf.compat.v1.get_variable instead.\n",
      "\n"
     ]
    },
    {
     "name": "stdout",
     "output_type": "stream",
     "text": [
      "t: 0\n",
      "t: 1\n",
      "t: 2\n",
      "t: 3\n",
      "t: 4\n",
      "t: 5\n",
      "t: 6\n",
      "t: 7\n",
      "t: 8\n",
      "WARNING:tensorflow:From C:\\Users\\sy8w\\OneDrive\\Documents\\Projects and Presentation\\github\\solverVer2.py:103: add_dispatch_support.<locals>.wrapper (from tensorflow.python.ops.array_ops) is deprecated and will be removed in a future version.\n",
      "Instructions for updating:\n",
      "Use tf.where in 2.0, which has the same broadcast rule as np.where\n"
     ]
    },
    {
     "name": "stderr",
     "output_type": "stream",
     "text": [
      "WARNING From C:\\Users\\sy8w\\OneDrive\\Documents\\Projects and Presentation\\github\\solverVer2.py:103: add_dispatch_support.<locals>.wrapper (from tensorflow.python.ops.array_ops) is deprecated and will be removed in a future version.\n",
      "Instructions for updating:\n",
      "Use tf.where in 2.0, which has the same broadcast rule as np.where\n"
     ]
    },
    {
     "name": "stdout",
     "output_type": "stream",
     "text": [
      "WARNING:tensorflow:From C:\\Users\\sy8w\\OneDrive\\Documents\\Projects and Presentation\\github\\solverVer2.py:109: The name tf.train.piecewise_constant is deprecated. Please use tf.compat.v1.train.piecewise_constant instead.\n",
      "\n"
     ]
    },
    {
     "name": "stderr",
     "output_type": "stream",
     "text": [
      "WARNING From C:\\Users\\sy8w\\OneDrive\\Documents\\Projects and Presentation\\github\\solverVer2.py:109: The name tf.train.piecewise_constant is deprecated. Please use tf.compat.v1.train.piecewise_constant instead.\n",
      "\n"
     ]
    },
    {
     "name": "stdout",
     "output_type": "stream",
     "text": [
      "WARNING:tensorflow:From C:\\Users\\sy8w\\OneDrive\\Documents\\Projects and Presentation\\github\\solverVer2.py:112: The name tf.trainable_variables is deprecated. Please use tf.compat.v1.trainable_variables instead.\n",
      "\n"
     ]
    },
    {
     "name": "stderr",
     "output_type": "stream",
     "text": [
      "WARNING From C:\\Users\\sy8w\\OneDrive\\Documents\\Projects and Presentation\\github\\solverVer2.py:112: The name tf.trainable_variables is deprecated. Please use tf.compat.v1.trainable_variables instead.\n",
      "\n"
     ]
    },
    {
     "name": "stdout",
     "output_type": "stream",
     "text": [
      "WARNING:tensorflow:From C:\\Users\\sy8w\\OneDrive\\Documents\\Projects and Presentation\\github\\solverVer2.py:116: The name tf.train.AdamOptimizer is deprecated. Please use tf.compat.v1.train.AdamOptimizer instead.\n",
      "\n"
     ]
    },
    {
     "name": "stderr",
     "output_type": "stream",
     "text": [
      "WARNING From C:\\Users\\sy8w\\OneDrive\\Documents\\Projects and Presentation\\github\\solverVer2.py:116: The name tf.train.AdamOptimizer is deprecated. Please use tf.compat.v1.train.AdamOptimizer instead.\n",
      "\n",
      "INFO   step:     0,    loss: 2.7851e+02,  elapsed time  14\n",
      "INFO   step:     0,  training  loss: 3.3918e+02\n",
      "INFO   step:  1000,    loss: 2.5707e+02,  elapsed time  18\n",
      "INFO   step:  1000,  training  loss: 3.2057e+02\n",
      "INFO   step:  2000,    loss: 2.5262e+02,  elapsed time  20\n",
      "INFO   step:  2000,  training  loss: 2.9456e+02\n",
      "INFO   step:  3000,    loss: 2.5236e+02,  elapsed time  22\n",
      "INFO   step:  3000,  training  loss: 2.9882e+02\n",
      "INFO   step:  4000,    loss: 2.5236e+02,  elapsed time  24\n",
      "INFO   step:  4000,  training  loss: 2.8364e+02\n",
      "INFO   step:  5000,    loss: 2.5267e+02,  elapsed time  27\n",
      "INFO   step:  5000,  training  loss: 2.9107e+02\n",
      "INFO   step:  6000,    loss: 2.5249e+02,  elapsed time  29\n",
      "INFO   step:  6000,  training  loss: 2.7978e+02\n",
      "INFO   step:  7000,    loss: 2.5249e+02,  elapsed time  31\n",
      "INFO   step:  7000,  training  loss: 1.9494e+02\n",
      "INFO   step:  8000,    loss: 2.5252e+02,  elapsed time  33\n",
      "INFO   step:  8000,  training  loss: 2.3936e+02\n",
      "INFO   step:  9000,    loss: 2.5251e+02,  elapsed time  35\n",
      "INFO   step:  9000,  training  loss: 2.1376e+02\n",
      "INFO   step: 10000,    loss: 2.5405e+02,  elapsed time  37\n",
      "INFO   step: 10000,  training  loss: 3.0405e+02\n",
      "INFO   step: 11000,    loss: 2.5256e+02,  elapsed time  39\n",
      "INFO   step: 11000,  training  loss: 3.1764e+02\n",
      "INFO   step: 12000,    loss: 2.5273e+02,  elapsed time  41\n",
      "INFO   step: 12000,  training  loss: 2.9518e+02\n",
      "INFO   step: 13000,    loss: 2.5425e+02,  elapsed time  44\n",
      "INFO   step: 13000,  training  loss: 3.3586e+02\n",
      "INFO   step: 14000,    loss: 2.5258e+02,  elapsed time  46\n",
      "INFO   step: 14000,  training  loss: 2.9480e+02\n",
      "INFO   step: 15000,    loss: 2.5277e+02,  elapsed time  49\n",
      "INFO   step: 15000,  training  loss: 2.8118e+02\n",
      "INFO   step: 16000,    loss: 2.5285e+02,  elapsed time  51\n",
      "INFO   step: 16000,  training  loss: 3.7798e+02\n",
      "INFO   step: 17000,    loss: 2.5290e+02,  elapsed time  54\n",
      "INFO   step: 17000,  training  loss: 2.3809e+02\n",
      "INFO   step: 18000,    loss: 2.5236e+02,  elapsed time  56\n",
      "INFO   step: 18000,  training  loss: 3.2419e+02\n",
      "INFO   step: 19000,    loss: 2.5428e+02,  elapsed time  59\n",
      "INFO   step: 19000,  training  loss: 3.1264e+02\n",
      "INFO   step: 20000,    loss: 2.5531e+02,  elapsed time  61\n",
      "INFO   step: 20000,  training  loss: 3.0272e+02\n",
      "INFO   step: 21000,    loss: 2.5362e+02,  elapsed time  63\n",
      "INFO   step: 21000,  training  loss: 2.5684e+02\n",
      "INFO   step: 22000,    loss: 2.5252e+02,  elapsed time  65\n",
      "INFO   step: 22000,  training  loss: 3.5635e+02\n",
      "INFO   step: 23000,    loss: 2.5235e+02,  elapsed time  67\n",
      "INFO   step: 23000,  training  loss: 2.8640e+02\n",
      "INFO   step: 24000,    loss: 2.5253e+02,  elapsed time  69\n",
      "INFO   step: 24000,  training  loss: 2.1813e+02\n",
      "INFO   step: 25000,    loss: 2.5238e+02,  elapsed time  71\n",
      "INFO   step: 25000,  training  loss: 2.8104e+02\n",
      "INFO   step: 26000,    loss: 2.5290e+02,  elapsed time  73\n",
      "INFO   step: 26000,  training  loss: 2.8051e+02\n",
      "INFO   step: 27000,    loss: 2.5242e+02,  elapsed time  75\n",
      "INFO   step: 27000,  training  loss: 2.2023e+02\n",
      "INFO   step: 28000,    loss: 2.5552e+02,  elapsed time  77\n",
      "INFO   step: 28000,  training  loss: 3.3467e+02\n",
      "INFO   step: 29000,    loss: 2.5279e+02,  elapsed time  79\n",
      "INFO   step: 29000,  training  loss: 2.7459e+02\n",
      "INFO   step: 30000,    loss: 2.5619e+02,  elapsed time  82\n",
      "INFO   step: 30000,  training  loss: 2.9267e+02\n",
      "INFO   step: 31000,    loss: 2.5267e+02,  elapsed time  85\n",
      "INFO   step: 31000,  training  loss: 3.5953e+02\n",
      "INFO   step: 32000,    loss: 2.5347e+02,  elapsed time  88\n",
      "INFO   step: 32000,  training  loss: 2.9582e+02\n",
      "INFO   step: 33000,    loss: 2.5234e+02,  elapsed time  90\n",
      "INFO   step: 33000,  training  loss: 3.3814e+02\n",
      "INFO   step: 34000,    loss: 2.5258e+02,  elapsed time  93\n",
      "INFO   step: 34000,  training  loss: 2.4330e+02\n",
      "INFO   step: 35000,    loss: 2.5257e+02,  elapsed time  95\n",
      "INFO   step: 35000,  training  loss: 2.8168e+02\n",
      "INFO   step: 36000,    loss: 2.5250e+02,  elapsed time  98\n",
      "INFO   step: 36000,  training  loss: 2.5232e+02\n",
      "INFO   step: 37000,    loss: 2.5234e+02,  elapsed time 100\n",
      "INFO   step: 37000,  training  loss: 3.0282e+02\n",
      "INFO   step: 38000,    loss: 2.5318e+02,  elapsed time 102\n",
      "INFO   step: 38000,  training  loss: 2.3928e+02\n",
      "INFO   step: 39000,    loss: 2.5238e+02,  elapsed time 104\n",
      "INFO   step: 39000,  training  loss: 2.6111e+02\n",
      "INFO   step: 40000,    loss: 2.5257e+02,  elapsed time 106\n",
      "INFO   step: 40000,  training  loss: 2.8636e+02\n",
      "INFO   step: 41000,    loss: 2.5333e+02,  elapsed time 108\n",
      "INFO   step: 41000,  training  loss: 2.6304e+02\n",
      "INFO   step: 42000,    loss: 2.5242e+02,  elapsed time 110\n",
      "INFO   step: 42000,  training  loss: 2.4685e+02\n",
      "INFO   step: 43000,    loss: 2.5954e+02,  elapsed time 112\n",
      "INFO   step: 43000,  training  loss: 2.4467e+02\n",
      "INFO   step: 44000,    loss: 2.5409e+02,  elapsed time 115\n",
      "INFO   step: 44000,  training  loss: 2.6176e+02\n",
      "INFO   step: 45000,    loss: 2.5337e+02,  elapsed time 117\n",
      "INFO   step: 45000,  training  loss: 2.9852e+02\n",
      "INFO   step: 46000,    loss: 2.5691e+02,  elapsed time 119\n",
      "INFO   step: 46000,  training  loss: 3.2377e+02\n",
      "INFO   step: 47000,    loss: 2.5235e+02,  elapsed time 121\n",
      "INFO   step: 47000,  training  loss: 2.0798e+02\n",
      "INFO   step: 48000,    loss: 2.5322e+02,  elapsed time 123\n",
      "INFO   step: 48000,  training  loss: 2.5834e+02\n",
      "INFO   step: 49000,    loss: 2.5435e+02,  elapsed time 125\n",
      "INFO   step: 49000,  training  loss: 2.7520e+02\n",
      "INFO   step: 50000,    loss: 2.5298e+02,  elapsed time 128\n",
      "INFO   step: 50000,  training  loss: 2.7838e+02\n",
      "INFO   step: 51000,    loss: 2.5270e+02,  elapsed time 130\n",
      "INFO   step: 51000,  training  loss: 2.9834e+02\n",
      "INFO   step: 52000,    loss: 2.5254e+02,  elapsed time 133\n",
      "INFO   step: 52000,  training  loss: 2.8388e+02\n",
      "INFO   step: 53000,    loss: 2.5240e+02,  elapsed time 136\n",
      "INFO   step: 53000,  training  loss: 3.2530e+02\n",
      "INFO   step: 54000,    loss: 2.5284e+02,  elapsed time 139\n",
      "INFO   step: 54000,  training  loss: 2.4285e+02\n",
      "INFO   step: 55000,    loss: 2.5331e+02,  elapsed time 141\n",
      "INFO   step: 55000,  training  loss: 3.1631e+02\n",
      "INFO   step: 56000,    loss: 2.5279e+02,  elapsed time 143\n",
      "INFO   step: 56000,  training  loss: 2.6614e+02\n",
      "INFO   step: 57000,    loss: 2.5248e+02,  elapsed time 145\n",
      "INFO   step: 57000,  training  loss: 3.7100e+02\n",
      "INFO   step: 58000,    loss: 2.5240e+02,  elapsed time 147\n",
      "INFO   step: 58000,  training  loss: 2.6770e+02\n",
      "INFO   step: 59000,    loss: 2.5235e+02,  elapsed time 149\n",
      "INFO   step: 59000,  training  loss: 3.3950e+02\n",
      "INFO   step: 60000,    loss: 2.5373e+02,  elapsed time 152\n",
      "INFO   step: 60000,  training  loss: 3.3683e+02\n",
      "INFO   step: 61000,    loss: 2.5391e+02,  elapsed time 154\n",
      "INFO   step: 61000,  training  loss: 2.3306e+02\n",
      "INFO   step: 62000,    loss: 2.5249e+02,  elapsed time 156\n",
      "INFO   step: 62000,  training  loss: 3.5748e+02\n",
      "INFO   step: 63000,    loss: 2.5280e+02,  elapsed time 159\n",
      "INFO   step: 63000,  training  loss: 1.9910e+02\n",
      "INFO   step: 64000,    loss: 2.5264e+02,  elapsed time 161\n",
      "INFO   step: 64000,  training  loss: 3.0676e+02\n",
      "INFO   step: 65000,    loss: 2.5240e+02,  elapsed time 164\n",
      "INFO   step: 65000,  training  loss: 2.9019e+02\n",
      "INFO   step: 66000,    loss: 2.5234e+02,  elapsed time 166\n",
      "INFO   step: 66000,  training  loss: 2.4380e+02\n",
      "INFO   step: 67000,    loss: 2.5259e+02,  elapsed time 169\n",
      "INFO   step: 67000,  training  loss: 2.4082e+02\n",
      "INFO   step: 68000,    loss: 2.5252e+02,  elapsed time 171\n",
      "INFO   step: 68000,  training  loss: 2.8725e+02\n",
      "INFO   step: 69000,    loss: 2.5285e+02,  elapsed time 174\n",
      "INFO   step: 69000,  training  loss: 2.6447e+02\n",
      "INFO   step: 70000,    loss: 2.5242e+02,  elapsed time 176\n",
      "INFO   step: 70000,  training  loss: 3.2452e+02\n",
      "INFO   step: 71000,    loss: 2.5319e+02,  elapsed time 179\n",
      "INFO   step: 71000,  training  loss: 2.7131e+02\n",
      "INFO   step: 72000,    loss: 2.5363e+02,  elapsed time 181\n",
      "INFO   step: 72000,  training  loss: 3.1335e+02\n",
      "INFO   step: 73000,    loss: 2.5238e+02,  elapsed time 184\n",
      "INFO   step: 73000,  training  loss: 2.7405e+02\n",
      "INFO   step: 74000,    loss: 2.5244e+02,  elapsed time 186\n",
      "INFO   step: 74000,  training  loss: 2.4340e+02\n"
     ]
    },
    {
     "name": "stderr",
     "output_type": "stream",
     "text": [
      "INFO   step: 75000,    loss: 2.5359e+02,  elapsed time 189\n",
      "INFO   step: 75000,  training  loss: 3.0507e+02\n",
      "INFO   step: 76000,    loss: 2.5244e+02,  elapsed time 192\n",
      "INFO   step: 76000,  training  loss: 3.4266e+02\n",
      "INFO   step: 77000,    loss: 2.5313e+02,  elapsed time 195\n",
      "INFO   step: 77000,  training  loss: 3.0796e+02\n",
      "INFO   step: 78000,    loss: 2.5236e+02,  elapsed time 197\n",
      "INFO   step: 78000,  training  loss: 2.6689e+02\n",
      "INFO   step: 79000,    loss: 2.5340e+02,  elapsed time 200\n",
      "INFO   step: 79000,  training  loss: 2.8689e+02\n",
      "INFO   step: 80000,    loss: 2.5292e+02,  elapsed time 203\n",
      "INFO   step: 80000,  training  loss: 2.4507e+02\n",
      "INFO   step: 81000,    loss: 2.5235e+02,  elapsed time 206\n",
      "INFO   step: 81000,  training  loss: 3.1223e+02\n",
      "INFO   step: 82000,    loss: 2.5308e+02,  elapsed time 209\n",
      "INFO   step: 82000,  training  loss: 2.6763e+02\n",
      "INFO   step: 83000,    loss: 2.5441e+02,  elapsed time 211\n",
      "INFO   step: 83000,  training  loss: 2.8269e+02\n",
      "INFO   step: 84000,    loss: 2.5237e+02,  elapsed time 214\n",
      "INFO   step: 84000,  training  loss: 2.1963e+02\n",
      "INFO   step: 85000,    loss: 2.5236e+02,  elapsed time 216\n",
      "INFO   step: 85000,  training  loss: 3.3219e+02\n",
      "INFO   step: 86000,    loss: 2.5234e+02,  elapsed time 219\n",
      "INFO   step: 86000,  training  loss: 3.0518e+02\n",
      "INFO   step: 87000,    loss: 2.5236e+02,  elapsed time 221\n",
      "INFO   step: 87000,  training  loss: 3.2248e+02\n",
      "INFO   step: 88000,    loss: 2.5489e+02,  elapsed time 224\n",
      "INFO   step: 88000,  training  loss: 2.2292e+02\n",
      "INFO   step: 89000,    loss: 2.5318e+02,  elapsed time 226\n",
      "INFO   step: 89000,  training  loss: 2.0084e+02\n",
      "INFO   step: 90000,    loss: 2.5272e+02,  elapsed time 228\n",
      "INFO   step: 90000,  training  loss: 2.9603e+02\n",
      "INFO   step: 91000,    loss: 2.5238e+02,  elapsed time 230\n",
      "INFO   step: 91000,  training  loss: 3.2944e+02\n",
      "INFO   step: 92000,    loss: 2.5523e+02,  elapsed time 232\n",
      "INFO   step: 92000,  training  loss: 2.9917e+02\n",
      "INFO   step: 93000,    loss: 2.5457e+02,  elapsed time 234\n",
      "INFO   step: 93000,  training  loss: 2.9535e+02\n",
      "INFO   step: 94000,    loss: 2.5544e+02,  elapsed time 237\n",
      "INFO   step: 94000,  training  loss: 2.9746e+02\n",
      "INFO   step: 95000,    loss: 2.5339e+02,  elapsed time 239\n",
      "INFO   step: 95000,  training  loss: 3.2592e+02\n",
      "INFO   step: 96000,    loss: 2.5413e+02,  elapsed time 242\n",
      "INFO   step: 96000,  training  loss: 2.7083e+02\n",
      "INFO   step: 97000,    loss: 2.5254e+02,  elapsed time 244\n",
      "INFO   step: 97000,  training  loss: 2.8448e+02\n",
      "INFO   step: 98000,    loss: 2.5321e+02,  elapsed time 247\n",
      "INFO   step: 98000,  training  loss: 2.9208e+02\n",
      "INFO   step: 99000,    loss: 2.5537e+02,  elapsed time 249\n",
      "INFO   step: 99000,  training  loss: 2.8833e+02\n",
      "INFO   step: 100000,    loss: 2.5398e+02,  elapsed time 252\n",
      "INFO   step: 100000,  training  loss: 2.7709e+02\n"
     ]
    }
   ],
   "source": [
    "weight={}\n",
    "problem_name = FLAGS.problem_name\n",
    "config = get_config(problem_name)\n",
    "bsde = get_equation(problem_name, config.dim, config.total_time, config.num_time_interval)\n",
    "\n",
    "if not os.path.exists(FLAGS.log_dir):\n",
    "    os.mkdir(FLAGS.log_dir)\n",
    "path_prefix = os.path.join(FLAGS.log_dir, problem_name)\n",
    "with open('{}_config.json'.format(path_prefix), 'w') as outfile:\n",
    "    json.dump(dict((name, getattr(config, name))\n",
    "                    for name in dir(config) if not name.startswith('__')),\n",
    "                outfile, indent=2)\n",
    "logging.basicConfig(level=logging.INFO,\n",
    "                    format='%(levelname)-6s %(message)s')\n",
    "\n",
    "for idx_run in range(1, FLAGS.num_run+1):\n",
    "    tf.reset_default_graph()\n",
    "    with tf.Session() as sess:\n",
    "        logging.info('Begin to solve %s with run %d' % (problem_name, idx_run))\n",
    "        model = FeedForwardModel(config, bsde, sess)\n",
    "        model.build()\n",
    "        training_history, graphs = model.train()\n",
    "        #for i in tf.trainable_variables():\n",
    "            #temp=i.name.split('/')\n",
    "            #print(temp)\n",
    "            #if len(temp)>1:\n",
    "                #if temp[1]=='f_layer':\n",
    "                    #weight[i.name]=sess.run(i)\n",
    "        #    print(i.name)\n",
    "        #    print(sess.run(i))\n",
    "        #   print('\\n')\n",
    "g=graphs"
   ]
  },
  {
   "cell_type": "code",
   "execution_count": 6,
   "metadata": {
    "scrolled": false
   },
   "outputs": [
    {
     "data": {
      "image/png": "[encoded data removed]",
      "text/plain": [
       "<Figure size 432x288 with 1 Axes>"
      ]
     },
     "metadata": {
      "needs_background": "light"
     },
     "output_type": "display_data"
    },
    {
     "data": {
      "image/png": "[encoded data removed]",
      "text/plain": [
       "<Figure size 432x288 with 1 Axes>"
      ]
     },
     "metadata": {
      "needs_background": "light"
     },
     "output_type": "display_data"
    },
    {
     "data": {
      "image/png": "[encoded data removed]",
      "text/plain": [
       "<Figure size 432x288 with 1 Axes>"
      ]
     },
     "metadata": {
      "needs_background": "light"
     },
     "output_type": "display_data"
    },
    {
     "data": {
      "image/png": "[encoded data removed]",
      "text/plain": [
       "<Figure size 432x288 with 1 Axes>"
      ]
     },
     "metadata": {
      "needs_background": "light"
     },
     "output_type": "display_data"
    },
    {
     "data": {
      "image/png": "[encoded data removed]",
      "text/plain": [
       "<Figure size 432x288 with 1 Axes>"
      ]
     },
     "metadata": {
      "needs_background": "light"
     },
     "output_type": "display_data"
    },
    {
     "data": {
      "image/png": "[encoded data removed]",
      "text/plain": [
       "<Figure size 432x288 with 1 Axes>"
      ]
     },
     "metadata": {
      "needs_background": "light"
     },
     "output_type": "display_data"
    },
    {
     "data": {
      "image/png": "[encoded data removed]",
      "text/plain": [
       "<Figure size 432x288 with 1 Axes>"
      ]
     },
     "metadata": {
      "needs_background": "light"
     },
     "output_type": "display_data"
    },
    {
     "data": {
      "image/png": "[encoded data removed]",
      "text/plain": [
       "<Figure size 432x288 with 1 Axes>"
      ]
     },
     "metadata": {
      "needs_background": "light"
     },
     "output_type": "display_data"
    },
    {
     "data": {
      "image/png": "[encoded data removed]",
      "text/plain": [
       "<Figure size 432x288 with 1 Axes>"
      ]
     },
     "metadata": {
      "needs_background": "light"
     },
     "output_type": "display_data"
    },
    {
     "data": {
      "image/png": "[encoded data removed]",
      "text/plain": [
       "<Figure size 432x288 with 1 Axes>"
      ]
     },
     "metadata": {
      "needs_background": "light"
     },
     "output_type": "display_data"
    },
    {
     "data": {
      "image/png": "[encoded data removed]",
      "text/plain": [
       "<Figure size 432x288 with 1 Axes>"
      ]
     },
     "metadata": {
      "needs_background": "light"
     },
     "output_type": "display_data"
    }
   ],
   "source": [
    "s0=100\n",
    "k=100\n",
    "r=0.00\n",
    "sigma=0.20\n",
    "T=1\n",
    "\n",
    "for i in range(len(g)):\n",
    "    fig, ax = plt.subplots()\n",
    "    ax.plot(np.linspace(80,120, 82),np.array(g[i]).flatten())\n",
    "    if i==0:\n",
    "        ax.plot(np.linspace(80,120, 82),blackscholes_price(k, T, np.linspace(80,120, 82), sigma, r, 0, 'call'),'r',label='Black-Scholes Price')"
   ]
  },
  {
   "cell_type": "code",
   "execution_count": 7,
   "metadata": {},
   "outputs": [
    {
     "data": {
      "text/plain": [
       "[array([[0.]]),\n",
       " array([[0.]]),\n",
       " array([[0.]]),\n",
       " array([[0.]]),\n",
       " array([[0.]]),\n",
       " array([[0.]]),\n",
       " array([[0.]]),\n",
       " array([[0.]]),\n",
       " array([[0.]]),\n",
       " array([[0.]]),\n",
       " array([[0.]]),\n",
       " array([[0.]]),\n",
       " array([[0.]]),\n",
       " array([[0.]]),\n",
       " array([[0.]]),\n",
       " array([[0.]]),\n",
       " array([[0.]]),\n",
       " array([[0.]]),\n",
       " array([[0.]]),\n",
       " array([[0.]]),\n",
       " array([[0.]]),\n",
       " array([[0.]]),\n",
       " array([[0.]]),\n",
       " array([[0.]]),\n",
       " array([[0.]]),\n",
       " array([[0.]]),\n",
       " array([[0.]]),\n",
       " array([[0.]]),\n",
       " array([[0.]]),\n",
       " array([[0.]]),\n",
       " array([[0.]]),\n",
       " array([[0.]]),\n",
       " array([[0.]]),\n",
       " array([[0.]]),\n",
       " array([[0.]]),\n",
       " array([[0.]]),\n",
       " array([[0.]]),\n",
       " array([[0.]]),\n",
       " array([[0.]]),\n",
       " array([[0.]]),\n",
       " array([[0.]]),\n",
       " array([[0.]]),\n",
       " array([[0.]]),\n",
       " array([[0.]]),\n",
       " array([[0.]]),\n",
       " array([[0.]]),\n",
       " array([[0.]]),\n",
       " array([[0.]]),\n",
       " array([[0.]]),\n",
       " array([[0.]]),\n",
       " array([[0.]]),\n",
       " array([[0.]]),\n",
       " array([[0.]]),\n",
       " array([[0.]]),\n",
       " array([[0.]]),\n",
       " array([[0.]]),\n",
       " array([[0.]]),\n",
       " array([[0.]]),\n",
       " array([[0.]]),\n",
       " array([[0.]]),\n",
       " array([[0.]]),\n",
       " array([[0.]]),\n",
       " array([[0.]]),\n",
       " array([[0.]]),\n",
       " array([[0.]]),\n",
       " array([[0.]]),\n",
       " array([[0.]]),\n",
       " array([[0.]]),\n",
       " array([[0.]]),\n",
       " array([[0.]]),\n",
       " array([[0.]]),\n",
       " array([[0.]]),\n",
       " array([[0.]]),\n",
       " array([[0.]]),\n",
       " array([[0.]]),\n",
       " array([[0.]]),\n",
       " array([[0.]]),\n",
       " array([[0.]]),\n",
       " array([[0.]]),\n",
       " array([[0.]]),\n",
       " array([[0.]]),\n",
       " array([[0.]])]"
      ]
     },
     "execution_count": 7,
     "metadata": {},
     "output_type": "execute_result"
    }
   ],
   "source": [
    "g[0]"
   ]
  },
  {
   "cell_type": "code",
   "execution_count": 8,
   "metadata": {},
   "outputs": [
    {
     "data": {
      "text/plain": [
       "array([[[ 80.92891591,  82.43384615,  83.03515284,  80.79825734,\n",
       "          79.48075481,  79.78595421,  79.45381261,  75.54405554,\n",
       "          77.12384918,  76.53541667,  73.81892775]],\n",
       "\n",
       "       [[106.89686121, 107.95615649, 107.97827791, 107.70490614,\n",
       "         109.20950186, 107.59158002, 104.11404183, 104.39921003,\n",
       "         103.83403682, 103.70291612, 102.71850255]],\n",
       "\n",
       "       [[107.67514133, 107.01249228, 102.94869856, 103.44964551,\n",
       "         104.9655019 , 102.55339103,  99.76651049,  95.13440188,\n",
       "          95.50876413,  95.13111956,  96.01709604]],\n",
       "\n",
       "       [[ 95.40934729,  96.16533837,  96.46272466,  96.92919127,\n",
       "          97.99369447,  97.15440761,  93.67272886,  93.96191941,\n",
       "          91.91362271,  91.04558158,  89.55593516]],\n",
       "\n",
       "       [[114.59924227, 115.52847406, 119.21229847, 114.5640195 ,\n",
       "         114.63289989, 115.1198274 , 112.92288548, 111.26898072,\n",
       "         111.66974598, 113.78108368, 114.10695206]],\n",
       "\n",
       "       [[110.04378154, 109.71018798, 112.91239534, 113.27339557,\n",
       "         116.64350344, 116.6962922 , 118.37934855, 118.92664913,\n",
       "         118.82462703, 119.98770569, 120.29398799]],\n",
       "\n",
       "       [[ 97.37718976, 100.76202032, 101.64297274, 104.7105978 ,\n",
       "         106.03250884, 104.59325236, 107.105706  , 105.93229878,\n",
       "         104.94712142, 106.82185807, 107.78535714]],\n",
       "\n",
       "       [[114.15797466, 112.0519077 , 110.09662636, 105.47268061,\n",
       "         104.18923513, 107.80884736, 105.71193218, 103.09016117,\n",
       "         100.8708097 , 100.8048697 , 100.55460095]],\n",
       "\n",
       "       [[ 82.30204039,  81.424356  ,  80.36649952,  79.57599113,\n",
       "          80.384245  ,  77.29013376,  75.9853331 ,  73.43108745,\n",
       "          73.90891541,  71.95505838,  71.96134123]],\n",
       "\n",
       "       [[ 85.44217785,  82.47124067,  79.95544439,  79.08460874,\n",
       "          80.72650983,  78.86338216,  80.10733827,  78.17347676,\n",
       "          77.64701127,  76.30626725,  76.01738606]]])"
      ]
     },
     "execution_count": 8,
     "metadata": {},
     "output_type": "execute_result"
    }
   ],
   "source": [
    "_dim=1\n",
    "num_sample=10\n",
    "_sigma=0.2\n",
    "_num_time_interval=10\n",
    "_x_init=80+40*np.random.uniform(0,1,[num_sample,_dim])\n",
    "dw_sample = np.random.randn(num_sample,\n",
    "                                     _dim,\n",
    "                                     _num_time_interval) * 0.1\n",
    "x_sample = np.zeros([num_sample, _dim, _num_time_interval + 1])\n",
    "x_sample[:, :, 0] = np.ones([num_sample,_dim]) * _x_init\n",
    "\n",
    "factor = np.exp((-(_sigma**2)/2)*0.1)\n",
    "for i in range(_num_time_interval):\n",
    "    x_sample[:, :, i + 1] = (factor * np.exp(_sigma * dw_sample[:, :, i])) * x_sample[:, :, i]\n",
    "x_sample"
   ]
  },
  {
   "cell_type": "code",
   "execution_count": null,
   "metadata": {},
   "outputs": [],
   "source": []
  }
 ],
 "metadata": {
  "kernelspec": {
   "display_name": "Python 3",
   "language": "python",
   "name": "python3"
  },
  "language_info": {
   "codemirror_mode": {
    "name": "ipython",
    "version": 3
   },
   "file_extension": ".py",
   "mimetype": "text/x-python",
   "name": "python",
   "nbconvert_exporter": "python",
   "pygments_lexer": "ipython3",
   "version": "3.7.5"
  }
 },
 "nbformat": 4,
 "nbformat_minor": 2
}
